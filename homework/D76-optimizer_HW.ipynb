{
 "cells": [
  {
   "cell_type": "markdown",
   "metadata": {},
   "source": [
    "# 作業重點:\n",
    "\n",
    "(1)以, Adam, 為例, 調整 batch_size, epoch , 觀察accuracy, loss 的變化\n",
    "\n",
    "(2)以同一模型, 分別驗證 SGD, Adam, Rmsprop 的 accuracy"
   ]
  },
  {
   "cell_type": "markdown",
   "metadata": {},
   "source": [
    "# 作業目標:\n",
    "    \n",
    "    取得各種優化器的運算結果"
   ]
  },
  {
   "cell_type": "code",
   "execution_count": 2,
   "metadata": {},
   "outputs": [],
   "source": [
    "from __future__ import print_function\n",
    "import keras\n",
    "from keras.datasets import cifar10\n",
    "from keras.preprocessing.image import ImageDataGenerator\n",
    "from keras.models import Sequential\n",
    "from keras.layers import Dense, Dropout, Activation, Flatten\n",
    "from keras.layers import Conv2D, MaxPooling2D\n",
    "from keras.utils import to_categorical\n",
    "from keras import optimizers\n",
    "import os"
   ]
  },
  {
   "cell_type": "code",
   "execution_count": 1,
   "metadata": {},
   "outputs": [],
   "source": [
    "#Blas GEMM launch failed , 避免動態分配GPU / CPU, 出現問題\n",
    "import tensorflow as tf\n",
    "gpu_options = tf.GPUOptions(per_process_gpu_memory_fraction=0.333)\n",
    "sess = tf.Session(config=tf.ConfigProto(gpu_options=gpu_options))"
   ]
  },
  {
   "cell_type": "code",
   "execution_count": 3,
   "metadata": {},
   "outputs": [],
   "source": [
    "\n",
    "'''\n",
    "   宣告並設定\n",
    "   batch_size：對總的樣本數進行分組，每組包含的樣本數量\n",
    "   epochs ：訓練次數\n",
    "   \n",
    "''' \n",
    "\n",
    "batch_size = 128\n",
    "num_classes = 10\n",
    "epochs = 40\n",
    "data_augmentation = True\n",
    "num_predictions = 20\n",
    "save_dir = os.path.join(os.getcwd(), 'saved_models')\n",
    "model_name = 'keras_cifar10_trained_model2.h5'\n"
   ]
  },
  {
   "cell_type": "code",
   "execution_count": 4,
   "metadata": {},
   "outputs": [
    {
     "name": "stdout",
     "output_type": "stream",
     "text": [
      "x_train shape: (50000, 32, 32, 3)\n",
      "50000 train samples\n",
      "10000 test samples\n"
     ]
    }
   ],
   "source": [
    "\n",
    "# The data, split between train and test sets:\n",
    "(x_train, y_train), (x_test, y_test) = cifar10.load_data()\n",
    "print('x_train shape:', x_train.shape)\n",
    "print(x_train.shape[0], 'train samples')\n",
    "print(x_test.shape[0], 'test samples')\n",
    "\n",
    "# Convert class vectors to binary class matrices.\n",
    "y_train = to_categorical(y_train, num_classes)\n",
    "y_test = to_categorical(y_test, num_classes)"
   ]
  },
  {
   "cell_type": "code",
   "execution_count": 5,
   "metadata": {},
   "outputs": [
    {
     "name": "stderr",
     "output_type": "stream",
     "text": [
      "WARNING: Logging before flag parsing goes to stderr.\n",
      "W0324 23:41:36.150762 29392 deprecation_wrapper.py:119] From C:\\Users\\henry\\Anaconda3\\envs\\finlab\\lib\\site-packages\\keras\\backend\\tensorflow_backend.py:74: The name tf.get_default_graph is deprecated. Please use tf.compat.v1.get_default_graph instead.\n",
      "\n",
      "W0324 23:41:36.151895 29392 deprecation_wrapper.py:119] From C:\\Users\\henry\\Anaconda3\\envs\\finlab\\lib\\site-packages\\keras\\backend\\tensorflow_backend.py:517: The name tf.placeholder is deprecated. Please use tf.compat.v1.placeholder instead.\n",
      "\n",
      "W0324 23:41:36.153763 29392 deprecation_wrapper.py:119] From C:\\Users\\henry\\Anaconda3\\envs\\finlab\\lib\\site-packages\\keras\\backend\\tensorflow_backend.py:4138: The name tf.random_uniform is deprecated. Please use tf.random.uniform instead.\n",
      "\n",
      "W0324 23:41:36.168766 29392 deprecation_wrapper.py:119] From C:\\Users\\henry\\Anaconda3\\envs\\finlab\\lib\\site-packages\\keras\\backend\\tensorflow_backend.py:3976: The name tf.nn.max_pool is deprecated. Please use tf.nn.max_pool2d instead.\n",
      "\n",
      "W0324 23:41:36.170767 29392 deprecation_wrapper.py:119] From C:\\Users\\henry\\Anaconda3\\envs\\finlab\\lib\\site-packages\\keras\\backend\\tensorflow_backend.py:133: The name tf.placeholder_with_default is deprecated. Please use tf.compat.v1.placeholder_with_default instead.\n",
      "\n",
      "W0324 23:41:36.174768 29392 deprecation.py:506] From C:\\Users\\henry\\Anaconda3\\envs\\finlab\\lib\\site-packages\\keras\\backend\\tensorflow_backend.py:3445: calling dropout (from tensorflow.python.ops.nn_ops) with keep_prob is deprecated and will be removed in a future version.\n",
      "Instructions for updating:\n",
      "Please use `rate` instead of `keep_prob`. Rate should be set to `rate = 1 - keep_prob`.\n"
     ]
    }
   ],
   "source": [
    "#    第一步：選擇模型, 順序模型是多個網絡層的線性堆疊\n",
    " \n",
    "model = Sequential()\n",
    "\n",
    "#   第二步：構建網絡層\n",
    "model.add(Conv2D(32, (3, 3), padding='same', activation='relu', input_shape=x_train.shape[1:]))\n",
    "model.add(Conv2D(32, (3, 3), activation='relu'))\n",
    "model.add(MaxPooling2D((2, 2)))\n",
    "model.add(Dropout(0.25))\n",
    "\n",
    "model.add(Conv2D(64, (3, 3), padding='same', activation='relu'))\n",
    "model.add(Conv2D(64, (3, 3), activation='relu'))\n",
    "model.add(MaxPooling2D((2, 2)))\n",
    "model.add(Dropout(0.25))\n",
    "\n",
    "model.add(Flatten())\n",
    "model.add(Dense(512, activation='relu'))\n",
    "model.add(Dropout(0.5))\n",
    "\n",
    "model.add(Dense(10, activation='softmax')) # 輸出結果是10個類別，所以維度是10，最後一層用softmax作為激活函數"
   ]
  },
  {
   "cell_type": "code",
   "execution_count": 6,
   "metadata": {},
   "outputs": [
    {
     "name": "stdout",
     "output_type": "stream",
     "text": [
      "Total Parameters：1250858\n"
     ]
    }
   ],
   "source": [
    "# 模型建立完成後，統計參數總量\n",
    "print(\"Total Parameters：{}\".format(model.count_params()))"
   ]
  },
  {
   "cell_type": "code",
   "execution_count": 7,
   "metadata": {},
   "outputs": [
    {
     "name": "stdout",
     "output_type": "stream",
     "text": [
      "_________________________________________________________________\n",
      "Layer (type)                 Output Shape              Param #   \n",
      "=================================================================\n",
      "conv2d_1 (Conv2D)            (None, 32, 32, 32)        896       \n",
      "_________________________________________________________________\n",
      "conv2d_2 (Conv2D)            (None, 30, 30, 32)        9248      \n",
      "_________________________________________________________________\n",
      "max_pooling2d_1 (MaxPooling2 (None, 15, 15, 32)        0         \n",
      "_________________________________________________________________\n",
      "dropout_1 (Dropout)          (None, 15, 15, 32)        0         \n",
      "_________________________________________________________________\n",
      "conv2d_3 (Conv2D)            (None, 15, 15, 64)        18496     \n",
      "_________________________________________________________________\n",
      "conv2d_4 (Conv2D)            (None, 13, 13, 64)        36928     \n",
      "_________________________________________________________________\n",
      "max_pooling2d_2 (MaxPooling2 (None, 6, 6, 64)          0         \n",
      "_________________________________________________________________\n",
      "dropout_2 (Dropout)          (None, 6, 6, 64)          0         \n",
      "_________________________________________________________________\n",
      "flatten_1 (Flatten)          (None, 2304)              0         \n",
      "_________________________________________________________________\n",
      "dense_1 (Dense)              (None, 512)               1180160   \n",
      "_________________________________________________________________\n",
      "dropout_3 (Dropout)          (None, 512)               0         \n",
      "_________________________________________________________________\n",
      "dense_2 (Dense)              (None, 10)                5130      \n",
      "=================================================================\n",
      "Total params: 1,250,858\n",
      "Trainable params: 1,250,858\n",
      "Non-trainable params: 0\n",
      "_________________________________________________________________\n"
     ]
    }
   ],
   "source": [
    "# 輸出模型摘要資訊\n",
    "model.summary()"
   ]
  },
  {
   "cell_type": "code",
   "execution_count": 9,
   "metadata": {},
   "outputs": [
    {
     "name": "stderr",
     "output_type": "stream",
     "text": [
      "W0324 23:43:06.509628 29392 deprecation_wrapper.py:119] From C:\\Users\\henry\\Anaconda3\\envs\\finlab\\lib\\site-packages\\keras\\optimizers.py:790: The name tf.train.Optimizer is deprecated. Please use tf.compat.v1.train.Optimizer instead.\n",
      "\n",
      "W0324 23:43:06.521630 29392 deprecation_wrapper.py:119] From C:\\Users\\henry\\Anaconda3\\envs\\finlab\\lib\\site-packages\\keras\\backend\\tensorflow_backend.py:3295: The name tf.log is deprecated. Please use tf.math.log instead.\n",
      "\n"
     ]
    }
   ],
   "source": [
    "#第三步編譯\n",
    "'''\n",
    " SGD(隨機梯度下降) - Arguments\n",
    "lr: float >= 0. Learning rate.\n",
    "momentum: float >= 0. Parameter that accelerates SGD in the relevant direction and dampens oscillations.\n",
    "decay: float >= 0. Learning rate decay over each update.\n",
    "nesterov: boolean. Whether to apply Nesterov momentum.\n",
    "'''\n",
    "\n",
    "'''\n",
    "RMSprop- Arguments\n",
    "lr: float >= 0. Learning rate.\n",
    "rho: float >= 0.\n",
    "epsilon: float >= 0. Fuzz factor. If None, defaults to K.epsilon().\n",
    "decay: float >= 0. Learning rate decay over each update.\n",
    "'''\n",
    "\n",
    "'''\n",
    "Example:\n",
    "opt = optimizers.SGD(lr=0.01, decay=1e-6, momentum=0.9, nesterov=True)\n",
    "\n",
    "'''\n",
    "\n",
    "model.compile(optimizer='rmsprop', loss='categorical_crossentropy', metrics=['accuracy'])\n"
   ]
  },
  {
   "cell_type": "code",
   "execution_count": 10,
   "metadata": {},
   "outputs": [],
   "source": [
    "# 資料正規化\n",
    "x_train = x_train.astype('float32')\n",
    "x_test = x_test.astype('float32')\n",
    "x_train /= 255\n",
    "x_test /= 255\n"
   ]
  },
  {
   "cell_type": "code",
   "execution_count": 11,
   "metadata": {
    "scrolled": true
   },
   "outputs": [
    {
     "name": "stdout",
     "output_type": "stream",
     "text": [
      "Using real-time data augmentation.\n",
      "\n"
     ]
    },
    {
     "name": "stderr",
     "output_type": "stream",
     "text": [
      "W0324 23:43:48.310891 29392 deprecation.py:323] From C:\\Users\\henry\\Anaconda3\\envs\\finlab\\lib\\site-packages\\tensorflow\\python\\ops\\math_grad.py:1250: add_dispatch_support.<locals>.wrapper (from tensorflow.python.ops.array_ops) is deprecated and will be removed in a future version.\n",
      "Instructions for updating:\n",
      "Use tf.where in 2.0, which has the same broadcast rule as np.where\n"
     ]
    },
    {
     "name": "stdout",
     "output_type": "stream",
     "text": [
      "Train on 50000 samples, validate on 10000 samples\n",
      "Epoch 1/40\n",
      "50000/50000 [==============================] - 9s 179us/step - loss: 1.7495 - acc: 0.3682 - val_loss: 1.4743 - val_acc: 0.4703\n",
      "Epoch 2/40\n",
      "50000/50000 [==============================] - 7s 145us/step - loss: 1.3255 - acc: 0.5299 - val_loss: 1.2598 - val_acc: 0.5598\n",
      "Epoch 3/40\n",
      "50000/50000 [==============================] - 7s 143us/step - loss: 1.1320 - acc: 0.6018 - val_loss: 1.0284 - val_acc: 0.6347\n",
      "Epoch 4/40\n",
      "50000/50000 [==============================] - 7s 144us/step - loss: 0.9956 - acc: 0.6500 - val_loss: 0.9056 - val_acc: 0.6882\n",
      "Epoch 5/40\n",
      "50000/50000 [==============================] - 7s 144us/step - loss: 0.8967 - acc: 0.6894 - val_loss: 0.7937 - val_acc: 0.7289\n",
      "Epoch 6/40\n",
      "50000/50000 [==============================] - 7s 144us/step - loss: 0.8254 - acc: 0.7136 - val_loss: 0.7691 - val_acc: 0.7331\n",
      "Epoch 7/40\n",
      "50000/50000 [==============================] - 7s 145us/step - loss: 0.7708 - acc: 0.7341 - val_loss: 0.7446 - val_acc: 0.7386\n",
      "Epoch 8/40\n",
      "50000/50000 [==============================] - 7s 144us/step - loss: 0.7226 - acc: 0.7491 - val_loss: 0.7535 - val_acc: 0.7423\n",
      "Epoch 9/40\n",
      "50000/50000 [==============================] - 7s 149us/step - loss: 0.6914 - acc: 0.7601 - val_loss: 0.7442 - val_acc: 0.7446\n",
      "Epoch 10/40\n",
      "50000/50000 [==============================] - 7s 146us/step - loss: 0.6665 - acc: 0.7712 - val_loss: 0.7173 - val_acc: 0.7641\n",
      "Epoch 11/40\n",
      "50000/50000 [==============================] - 7s 142us/step - loss: 0.6443 - acc: 0.7788 - val_loss: 0.6924 - val_acc: 0.7678\n",
      "Epoch 12/40\n",
      "50000/50000 [==============================] - 7s 141us/step - loss: 0.6350 - acc: 0.7820 - val_loss: 0.6962 - val_acc: 0.7644\n",
      "Epoch 13/40\n",
      "50000/50000 [==============================] - 7s 141us/step - loss: 0.6194 - acc: 0.7894 - val_loss: 0.7365 - val_acc: 0.7734\n",
      "Epoch 14/40\n",
      "50000/50000 [==============================] - 7s 141us/step - loss: 0.6182 - acc: 0.7910 - val_loss: 0.6704 - val_acc: 0.7789\n",
      "Epoch 15/40\n",
      "50000/50000 [==============================] - 7s 140us/step - loss: 0.6046 - acc: 0.7970 - val_loss: 0.7571 - val_acc: 0.7820\n",
      "Epoch 16/40\n",
      "50000/50000 [==============================] - 7s 140us/step - loss: 0.6068 - acc: 0.7996 - val_loss: 0.7024 - val_acc: 0.7726\n",
      "Epoch 17/40\n",
      "50000/50000 [==============================] - 7s 140us/step - loss: 0.5994 - acc: 0.7995 - val_loss: 0.7906 - val_acc: 0.7520\n",
      "Epoch 18/40\n",
      "50000/50000 [==============================] - 7s 141us/step - loss: 0.6015 - acc: 0.8001 - val_loss: 0.8214 - val_acc: 0.7694\n",
      "Epoch 19/40\n",
      "50000/50000 [==============================] - 7s 141us/step - loss: 0.5932 - acc: 0.8037 - val_loss: 0.6723 - val_acc: 0.7930\n",
      "Epoch 20/40\n",
      "50000/50000 [==============================] - 7s 141us/step - loss: 0.5899 - acc: 0.8071 - val_loss: 0.7162 - val_acc: 0.7832\n",
      "Epoch 21/40\n",
      "50000/50000 [==============================] - 7s 141us/step - loss: 0.5925 - acc: 0.8063 - val_loss: 0.8195 - val_acc: 0.7524\n",
      "Epoch 22/40\n",
      "50000/50000 [==============================] - 7s 143us/step - loss: 0.5884 - acc: 0.8058 - val_loss: 0.7243 - val_acc: 0.7894\n",
      "Epoch 23/40\n",
      "50000/50000 [==============================] - 8s 151us/step - loss: 0.5942 - acc: 0.8062 - val_loss: 0.7194 - val_acc: 0.7843\n",
      "Epoch 24/40\n",
      "50000/50000 [==============================] - 7s 149us/step - loss: 0.5832 - acc: 0.8076 - val_loss: 0.6418 - val_acc: 0.7937\n",
      "Epoch 25/40\n",
      "50000/50000 [==============================] - 7s 145us/step - loss: 0.5934 - acc: 0.8050 - val_loss: 0.9023 - val_acc: 0.7341\n",
      "Epoch 26/40\n",
      "50000/50000 [==============================] - 7s 144us/step - loss: 0.5843 - acc: 0.8096 - val_loss: 0.8512 - val_acc: 0.7505\n",
      "Epoch 27/40\n",
      "50000/50000 [==============================] - 7s 145us/step - loss: 0.5918 - acc: 0.8072 - val_loss: 0.8145 - val_acc: 0.7947\n",
      "Epoch 28/40\n",
      "50000/50000 [==============================] - 7s 145us/step - loss: 0.5959 - acc: 0.8073 - val_loss: 0.7784 - val_acc: 0.7796\n",
      "Epoch 29/40\n",
      "50000/50000 [==============================] - 7s 144us/step - loss: 0.5953 - acc: 0.8080 - val_loss: 0.6820 - val_acc: 0.7949\n",
      "Epoch 30/40\n",
      "50000/50000 [==============================] - 7s 145us/step - loss: 0.5981 - acc: 0.8064 - val_loss: 0.6546 - val_acc: 0.7983\n",
      "Epoch 31/40\n",
      "50000/50000 [==============================] - 7s 144us/step - loss: 0.5887 - acc: 0.8065 - val_loss: 0.6905 - val_acc: 0.7966\n",
      "Epoch 32/40\n",
      "50000/50000 [==============================] - 7s 145us/step - loss: 0.5949 - acc: 0.8085 - val_loss: 0.8551 - val_acc: 0.7757\n",
      "Epoch 33/40\n",
      "50000/50000 [==============================] - 7s 145us/step - loss: 0.5974 - acc: 0.8078 - val_loss: 0.7084 - val_acc: 0.7939\n",
      "Epoch 34/40\n",
      "50000/50000 [==============================] - 7s 145us/step - loss: 0.5964 - acc: 0.8073 - val_loss: 0.7777 - val_acc: 0.7725\n",
      "Epoch 35/40\n",
      "50000/50000 [==============================] - 7s 147us/step - loss: 0.6060 - acc: 0.8052 - val_loss: 0.7046 - val_acc: 0.7708\n",
      "Epoch 36/40\n",
      "50000/50000 [==============================] - 7s 145us/step - loss: 0.5994 - acc: 0.8073 - val_loss: 0.6606 - val_acc: 0.7906\n",
      "Epoch 37/40\n",
      "50000/50000 [==============================] - 7s 145us/step - loss: 0.6063 - acc: 0.8059 - val_loss: 0.8795 - val_acc: 0.7576\n",
      "Epoch 38/40\n",
      "50000/50000 [==============================] - 7s 145us/step - loss: 0.6121 - acc: 0.8026 - val_loss: 0.6972 - val_acc: 0.7943\n",
      "Epoch 39/40\n",
      "50000/50000 [==============================] - 7s 146us/step - loss: 0.6209 - acc: 0.8016 - val_loss: 0.7387 - val_acc: 0.7885\n",
      "Epoch 40/40\n",
      "50000/50000 [==============================] - 7s 145us/step - loss: 0.6241 - acc: 0.8033 - val_loss: 0.6857 - val_acc: 0.7882\n"
     ]
    },
    {
     "data": {
      "text/plain": [
       "'\\n   第四步：訓練\\n   .fit的一些參數\\n   batch_size：對總的樣本數進行分組，每組包含的樣本數量\\n   epochs ：訓練次數\\n   shuffle：是否把數據隨機打亂之後再進行訓練\\n   validation_split：拿出百分之多少用來做交叉驗證\\n   verbose：屏顯模式 - 0：不輸出, 1：輸出進度, 2：輸出每次的訓練結果\\n'"
      ]
     },
     "execution_count": 11,
     "metadata": {},
     "output_type": "execute_result"
    }
   ],
   "source": [
    "# 是否要做資料處理\n",
    "if not data_augmentation:\n",
    "    print('Not using data augmentation.')\n",
    "    history=model.fit(x_train, y_train,\n",
    "              batch_size=batch_size,\n",
    "              epochs=epochs,\n",
    "              validation_data=(x_test, y_test),\n",
    "              shuffle=True)\n",
    "else:\n",
    "    print('Using real-time data augmentation.')\n",
    "    print('')\n",
    "        \n",
    "    # This will do preprocessing and realtime data augmentation:\n",
    "    datagen = ImageDataGenerator(\n",
    "        featurewise_center=False,  # set input mean to 0 over the dataset\n",
    "        samplewise_center=False,  # set each sample mean to 0\n",
    "        featurewise_std_normalization=False,  # divide inputs by std of the dataset\n",
    "        samplewise_std_normalization=False,  # divide each input by its std\n",
    "        zca_whitening=False,  # apply ZCA whitening\n",
    "        zca_epsilon=1e-06,  # epsilon for ZCA whitening\n",
    "        rotation_range=0,  # randomly rotate images in the range (degrees, 0 to 180)\n",
    "        # randomly shift images horizontally (fraction of total width)\n",
    "        width_shift_range=0.1,\n",
    "        # randomly shift images vertically (fraction of total height)\n",
    "        height_shift_range=0.1,\n",
    "        shear_range=0.,  # set range for random shear\n",
    "        zoom_range=0.,  # set range for random zoom\n",
    "        channel_shift_range=0.,  # set range for random channel shifts\n",
    "        # set mode for filling points outside the input boundaries\n",
    "        fill_mode='nearest',\n",
    "        cval=0.,  # value used for fill_mode = \"constant\"\n",
    "        horizontal_flip=True,  # randomly flip images\n",
    "        vertical_flip=False,  # randomly flip images\n",
    "        # set rescaling factor (applied before any other transformation)\n",
    "        rescale=None,\n",
    "        # set function that will be applied on each input\n",
    "        preprocessing_function=None,\n",
    "        # image data format, either \"channels_first\" or \"channels_last\"\n",
    "        data_format=None,\n",
    "        # fraction of images reserved for validation (strictly between 0 and 1)\n",
    "        validation_split=0.0)\n",
    "\n",
    "    # Compute quantities required for feature-wise normalization\n",
    "    # (std, mean, and principal components if ZCA whitening is applied).\n",
    "    datagen.fit(x_train)\n",
    "    history=model.fit(x_train, \n",
    "                      y_train,\n",
    "                      batch_size=batch_size,\n",
    "                      epochs=epochs,\n",
    "                      validation_data=(x_test, y_test),\n",
    "                      shuffle=True)   \n",
    "\n",
    "'''\n",
    "   第四步：訓練\n",
    "   .fit的一些參數\n",
    "   batch_size：對總的樣本數進行分組，每組包含的樣本數量\n",
    "   epochs ：訓練次數\n",
    "   shuffle：是否把數據隨機打亂之後再進行訓練\n",
    "   validation_split：拿出百分之多少用來做交叉驗證\n",
    "   verbose：屏顯模式 - 0：不輸出, 1：輸出進度, 2：輸出每次的訓練結果\n",
    "''' \n",
    "    "
   ]
  },
  {
   "cell_type": "code",
   "execution_count": 12,
   "metadata": {},
   "outputs": [
    {
     "name": "stdout",
     "output_type": "stream",
     "text": [
      "Saved trained model at D:\\機器學習百日馬拉松\\8.初探深度使用Keras_D76(優化器optimizers)\\saved_models\\keras_cifar10_trained_model2.h5 \n",
      "10000/10000 [==============================] - 1s 78us/step\n",
      "Test loss: 0.6856719243049622\n",
      "Test accuracy: 0.7882\n"
     ]
    }
   ],
   "source": [
    "# Save model and weights\n",
    "if not os.path.isdir(save_dir):\n",
    "    os.makedirs(save_dir)\n",
    "model_path = os.path.join(save_dir, model_name)\n",
    "model.save(model_path)\n",
    "print('Saved trained model at {} '.format(model_path))\n",
    "\n",
    "# Score trained model.\n",
    "scores = model.evaluate(x_test, y_test, verbose=1)\n",
    "print('Test loss:', scores[0])\n",
    "print('Test accuracy:', scores[1])"
   ]
  },
  {
   "cell_type": "code",
   "execution_count": 13,
   "metadata": {},
   "outputs": [
    {
     "name": "stdout",
     "output_type": "stream",
     "text": [
      " test set \n",
      "\n",
      " The test loss is %f  [0.685671928524971, 0.7882000005245209]\n"
     ]
    }
   ],
   "source": [
    "#    第六步：輸出\n",
    "import numpy as np\n",
    "\n",
    "print(\" test set \")\n",
    "scores = model.evaluate(x_test, y_test, batch_size=200, verbose=0)\n",
    "print(\"\")\n",
    "#print ( \" The test loss is %f \" % scores)\n",
    "print(\" The test loss is %f \", scores)\n",
    "\n",
    "\n",
    "result = model.predict(x_test, batch_size=200, verbose= 0)\n",
    "\n",
    "result_max = np.argmax(result, axis=1)\n",
    "test_max = np.argmax(y_test, axis=1)\n",
    "\n",
    "result_bool = np.equal(result_max, test_max)\n",
    "true_num = np.sum(result_bool)\n"
   ]
  },
  {
   "cell_type": "code",
   "execution_count": 14,
   "metadata": {},
   "outputs": [
    {
     "data": {
      "text/plain": [
       "<matplotlib.legend.Legend at 0x21510925da0>"
      ]
     },
     "execution_count": 14,
     "metadata": {},
     "output_type": "execute_result"
    },
    {
     "data": {
      "image/png": "[encoded data removed]",
      "text/plain": [
       "<Figure size 432x288 with 1 Axes>"
      ]
     },
     "metadata": {
      "needs_background": "light"
     },
     "output_type": "display_data"
    },
    {
     "data": {
      "image/png": "[encoded data removed]",
      "text/plain": [
       "<Figure size 432x288 with 1 Axes>"
      ]
     },
     "metadata": {
      "needs_background": "light"
     },
     "output_type": "display_data"
    }
   ],
   "source": [
    "import matplotlib.pyplot as plt\n",
    "%matplotlib inline\n",
    "\n",
    "# Plot training & validation accuracy values\n",
    "plt.plot(history.history['acc'])\n",
    "plt.plot(history.history['val_acc'])\n",
    "plt.title('Model accuracy')\n",
    "plt.ylabel('Accuracy')\n",
    "plt.xlabel('Epochs')\n",
    "plt.legend(['Train', 'Valiidation'], loc='upper left')\n",
    "\n",
    "plt.figure()\n",
    "\n",
    "# Plot training & validation loss values\n",
    "plt.plot(history.history['loss'])\n",
    "plt.plot(history.history['val_loss'])\n",
    "plt.title('Model loss')\n",
    "plt.ylabel('Loss')\n",
    "plt.xlabel('Epochs')\n",
    "plt.legend(['Train', 'Valiidation'], loc='upper left')\n"
   ]
  },
  {
   "cell_type": "code",
   "execution_count": null,
   "metadata": {},
   "outputs": [],
   "source": []
  },
  {
   "cell_type": "code",
   "execution_count": null,
   "metadata": {},
   "outputs": [],
   "source": []
  },
  {
   "cell_type": "code",
   "execution_count": null,
   "metadata": {},
   "outputs": [],
   "source": []
  }
 ],
 "metadata": {
  "kernelspec": {
   "display_name": "finlab",
   "language": "python",
   "name": "finlab"
  },
  "language_info": {
   "codemirror_mode": {
    "name": "ipython",
    "version": 3
   },
   "file_extension": ".py",
   "mimetype": "text/x-python",
   "name": "python",
   "nbconvert_exporter": "python",
   "pygments_lexer": "ipython3",
   "version": "3.6.9"
  }
 },
 "nbformat": 4,
 "nbformat_minor": 4
}
