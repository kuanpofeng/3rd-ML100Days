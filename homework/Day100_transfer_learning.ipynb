{
 "cells": [
  {
   "cell_type": "markdown",
   "metadata": {},
   "source": [
    "# Cifar10"
   ]
  },
  {
   "cell_type": "code",
   "execution_count": 1,
   "metadata": {},
   "outputs": [
    {
     "name": "stderr",
     "output_type": "stream",
     "text": [
      "Using TensorFlow backend.\n"
     ]
    }
   ],
   "source": [
    "from keras.datasets import cifar10\n",
    "from keras.utils import to_categorical\n",
    "\n",
    "(X_train, y_train), (X_test, y_test) = cifar10.load_data()"
   ]
  },
  {
   "cell_type": "code",
   "execution_count": 2,
   "metadata": {},
   "outputs": [
    {
     "name": "stdout",
     "output_type": "stream",
     "text": [
      "train_images shape: (50000, 32, 32, 3)\n",
      "train_labels shape: (50000, 1)\n",
      "test_images shape: (10000, 32, 32, 3)\n",
      "test_labels shape: (10000, 1)\n"
     ]
    }
   ],
   "source": [
    "print('train_images shape:', X_train.shape)\n",
    "print('train_labels shape:', y_train.shape)\n",
    "print('test_images shape:', X_test.shape)\n",
    "print('test_labels shape:', y_test.shape)"
   ]
  },
  {
   "cell_type": "code",
   "execution_count": 3,
   "metadata": {},
   "outputs": [],
   "source": [
    "X_train = X_train.astype('float32') / 255.\n",
    "X_test = X_test.astype('float32') / 255.\n",
    "\n",
    "y_train = to_categorical(y_train)\n",
    "y_test = to_categorical(y_test)"
   ]
  },
  {
   "cell_type": "markdown",
   "metadata": {},
   "source": [
    "### VGG16 convolutional base 卷積基底"
   ]
  },
  {
   "cell_type": "code",
   "execution_count": 4,
   "metadata": {},
   "outputs": [
    {
     "name": "stderr",
     "output_type": "stream",
     "text": [
      "WARNING: Logging before flag parsing goes to stderr.\n",
      "W0301 22:33:28.691122  3564 deprecation_wrapper.py:119] From C:\\Users\\henry\\Anaconda3\\envs\\finlab\\lib\\site-packages\\keras\\backend\\tensorflow_backend.py:74: The name tf.get_default_graph is deprecated. Please use tf.compat.v1.get_default_graph instead.\n",
      "\n",
      "W0301 22:33:28.703913  3564 deprecation_wrapper.py:119] From C:\\Users\\henry\\Anaconda3\\envs\\finlab\\lib\\site-packages\\keras\\backend\\tensorflow_backend.py:517: The name tf.placeholder is deprecated. Please use tf.compat.v1.placeholder instead.\n",
      "\n",
      "W0301 22:33:28.706912  3564 deprecation_wrapper.py:119] From C:\\Users\\henry\\Anaconda3\\envs\\finlab\\lib\\site-packages\\keras\\backend\\tensorflow_backend.py:4138: The name tf.random_uniform is deprecated. Please use tf.random.uniform instead.\n",
      "\n",
      "W0301 22:33:28.721916  3564 deprecation_wrapper.py:119] From C:\\Users\\henry\\Anaconda3\\envs\\finlab\\lib\\site-packages\\keras\\backend\\tensorflow_backend.py:3976: The name tf.nn.max_pool is deprecated. Please use tf.nn.max_pool2d instead.\n",
      "\n",
      "W0301 22:33:28.981974  3564 deprecation_wrapper.py:119] From C:\\Users\\henry\\Anaconda3\\envs\\finlab\\lib\\site-packages\\keras\\backend\\tensorflow_backend.py:174: The name tf.get_default_session is deprecated. Please use tf.compat.v1.get_default_session instead.\n",
      "\n",
      "W0301 22:33:28.981974  3564 deprecation_wrapper.py:119] From C:\\Users\\henry\\Anaconda3\\envs\\finlab\\lib\\site-packages\\keras\\backend\\tensorflow_backend.py:181: The name tf.ConfigProto is deprecated. Please use tf.compat.v1.ConfigProto instead.\n",
      "\n"
     ]
    }
   ],
   "source": [
    "from keras.applications import VGG16\n",
    "conv_base = VGG16(weights='imagenet',  \n",
    "                  include_top=False,\n",
    "                  input_shape=(32, 32, 3))"
   ]
  },
  {
   "cell_type": "code",
   "execution_count": 5,
   "metadata": {},
   "outputs": [
    {
     "name": "stdout",
     "output_type": "stream",
     "text": [
      "_________________________________________________________________\n",
      "Layer (type)                 Output Shape              Param #   \n",
      "=================================================================\n",
      "input_1 (InputLayer)         (None, 32, 32, 3)         0         \n",
      "_________________________________________________________________\n",
      "block1_conv1 (Conv2D)        (None, 32, 32, 64)        1792      \n",
      "_________________________________________________________________\n",
      "block1_conv2 (Conv2D)        (None, 32, 32, 64)        36928     \n",
      "_________________________________________________________________\n",
      "block1_pool (MaxPooling2D)   (None, 16, 16, 64)        0         \n",
      "_________________________________________________________________\n",
      "block2_conv1 (Conv2D)        (None, 16, 16, 128)       73856     \n",
      "_________________________________________________________________\n",
      "block2_conv2 (Conv2D)        (None, 16, 16, 128)       147584    \n",
      "_________________________________________________________________\n",
      "block2_pool (MaxPooling2D)   (None, 8, 8, 128)         0         \n",
      "_________________________________________________________________\n",
      "block3_conv1 (Conv2D)        (None, 8, 8, 256)         295168    \n",
      "_________________________________________________________________\n",
      "block3_conv2 (Conv2D)        (None, 8, 8, 256)         590080    \n",
      "_________________________________________________________________\n",
      "block3_conv3 (Conv2D)        (None, 8, 8, 256)         590080    \n",
      "_________________________________________________________________\n",
      "block3_pool (MaxPooling2D)   (None, 4, 4, 256)         0         \n",
      "_________________________________________________________________\n",
      "block4_conv1 (Conv2D)        (None, 4, 4, 512)         1180160   \n",
      "_________________________________________________________________\n",
      "block4_conv2 (Conv2D)        (None, 4, 4, 512)         2359808   \n",
      "_________________________________________________________________\n",
      "block4_conv3 (Conv2D)        (None, 4, 4, 512)         2359808   \n",
      "_________________________________________________________________\n",
      "block4_pool (MaxPooling2D)   (None, 2, 2, 512)         0         \n",
      "_________________________________________________________________\n",
      "block5_conv1 (Conv2D)        (None, 2, 2, 512)         2359808   \n",
      "_________________________________________________________________\n",
      "block5_conv2 (Conv2D)        (None, 2, 2, 512)         2359808   \n",
      "_________________________________________________________________\n",
      "block5_conv3 (Conv2D)        (None, 2, 2, 512)         2359808   \n",
      "_________________________________________________________________\n",
      "block5_pool (MaxPooling2D)   (None, 1, 1, 512)         0         \n",
      "=================================================================\n",
      "Total params: 14,714,688\n",
      "Trainable params: 14,714,688\n",
      "Non-trainable params: 0\n",
      "_________________________________________________________________\n"
     ]
    }
   ],
   "source": [
    "conv_base.summary()"
   ]
  },
  {
   "cell_type": "code",
   "execution_count": 6,
   "metadata": {
    "scrolled": true
   },
   "outputs": [
    {
     "name": "stdout",
     "output_type": "stream",
     "text": [
      "_________________________________________________________________"
     ]
    },
    {
     "name": "stderr",
     "output_type": "stream",
     "text": [
      "W0301 22:33:30.197123  3564 deprecation_wrapper.py:119] From C:\\Users\\henry\\Anaconda3\\envs\\finlab\\lib\\site-packages\\keras\\optimizers.py:790: The name tf.train.Optimizer is deprecated. Please use tf.compat.v1.train.Optimizer instead.\n",
      "\n",
      "W0301 22:33:30.265138  3564 deprecation.py:323] From C:\\Users\\henry\\Anaconda3\\envs\\finlab\\lib\\site-packages\\tensorflow\\python\\ops\\math_grad.py:1250: add_dispatch_support.<locals>.wrapper (from tensorflow.python.ops.array_ops) is deprecated and will be removed in a future version.\n",
      "Instructions for updating:\n",
      "Use tf.where in 2.0, which has the same broadcast rule as np.where\n"
     ]
    },
    {
     "name": "stdout",
     "output_type": "stream",
     "text": [
      "\n",
      "Layer (type)                 Output Shape              Param #   \n",
      "=================================================================\n",
      "vgg16 (Model)                (None, 1, 1, 512)         14714688  \n",
      "_________________________________________________________________\n",
      "flatten_1 (Flatten)          (None, 512)               0         \n",
      "_________________________________________________________________\n",
      "dense_1 (Dense)              (None, 256)               131328    \n",
      "_________________________________________________________________\n",
      "dense_2 (Dense)              (None, 10)                2570      \n",
      "=================================================================\n",
      "Total params: 14,848,586\n",
      "Trainable params: 14,848,586\n",
      "Non-trainable params: 0\n",
      "_________________________________________________________________\n",
      "Epoch 1/30\n",
      "781/781 [==============================] - 65s 83ms/step - loss: 0.9782 - acc: 0.6544 - val_loss: 0.7364 - val_acc: 0.7434\n",
      "Epoch 2/30\n",
      "781/781 [==============================] - 63s 80ms/step - loss: 0.6741 - acc: 0.7635 - val_loss: 0.6117 - val_acc: 0.7868\n",
      "Epoch 3/30\n",
      "781/781 [==============================] - 63s 80ms/step - loss: 0.5725 - acc: 0.8008 - val_loss: 0.5956 - val_acc: 0.7907\n",
      "Epoch 4/30\n",
      "781/781 [==============================] - 63s 80ms/step - loss: 0.5061 - acc: 0.8226 - val_loss: 0.5494 - val_acc: 0.8115\n",
      "Epoch 5/30\n",
      "781/781 [==============================] - 63s 80ms/step - loss: 0.4520 - acc: 0.8404 - val_loss: 0.4970 - val_acc: 0.8288\n",
      "Epoch 6/30\n",
      "781/781 [==============================] - 63s 80ms/step - loss: 0.4131 - acc: 0.8538 - val_loss: 0.4962 - val_acc: 0.8297\n",
      "Epoch 7/30\n",
      "781/781 [==============================] - 63s 80ms/step - loss: 0.3790 - acc: 0.8669 - val_loss: 0.4375 - val_acc: 0.8468\n",
      "Epoch 8/30\n",
      "781/781 [==============================] - 63s 80ms/step - loss: 0.3482 - acc: 0.8784 - val_loss: 0.4476 - val_acc: 0.8488\n",
      "Epoch 9/30\n",
      "781/781 [==============================] - 63s 81ms/step - loss: 0.3131 - acc: 0.8890 - val_loss: 0.4509 - val_acc: 0.8508\n",
      "Epoch 10/30\n",
      "781/781 [==============================] - 63s 81ms/step - loss: 0.2931 - acc: 0.8974 - val_loss: 0.4540 - val_acc: 0.8493\n",
      "Epoch 11/30\n",
      "781/781 [==============================] - 63s 81ms/step - loss: 0.2720 - acc: 0.9044 - val_loss: 0.4139 - val_acc: 0.8667\n",
      "Epoch 12/30\n",
      "781/781 [==============================] - 63s 80ms/step - loss: 0.2434 - acc: 0.9126 - val_loss: 0.4335 - val_acc: 0.8599\n",
      "Epoch 13/30\n",
      "781/781 [==============================] - 63s 80ms/step - loss: 0.2311 - acc: 0.9193 - val_loss: 0.4322 - val_acc: 0.8660\n",
      "Epoch 14/30\n",
      "781/781 [==============================] - 63s 80ms/step - loss: 0.2095 - acc: 0.9261 - val_loss: 0.4481 - val_acc: 0.8614\n",
      "Epoch 15/30\n",
      "781/781 [==============================] - 63s 81ms/step - loss: 0.1925 - acc: 0.9309 - val_loss: 0.4393 - val_acc: 0.8661\n",
      "Epoch 16/30\n",
      "781/781 [==============================] - 64s 82ms/step - loss: 0.1761 - acc: 0.9379 - val_loss: 0.4438 - val_acc: 0.8660\n",
      "Epoch 17/30\n",
      "781/781 [==============================] - 64s 82ms/step - loss: 0.1575 - acc: 0.9444 - val_loss: 0.4551 - val_acc: 0.8657\n",
      "Epoch 18/30\n",
      "781/781 [==============================] - 66s 84ms/step - loss: 0.1436 - acc: 0.9486 - val_loss: 0.4900 - val_acc: 0.8656\n",
      "Epoch 19/30\n",
      "781/781 [==============================] - 65s 83ms/step - loss: 0.1332 - acc: 0.9534 - val_loss: 0.4603 - val_acc: 0.8676\n",
      "Epoch 20/30\n",
      "781/781 [==============================] - 65s 83ms/step - loss: 0.1234 - acc: 0.9553 - val_loss: 0.4884 - val_acc: 0.8657\n",
      "Epoch 21/30\n",
      "781/781 [==============================] - 64s 81ms/step - loss: 0.1143 - acc: 0.9590 - val_loss: 0.5009 - val_acc: 0.8663\n",
      "Epoch 22/30\n",
      "781/781 [==============================] - 64s 82ms/step - loss: 0.1075 - acc: 0.9623 - val_loss: 0.4725 - val_acc: 0.8707\n",
      "Epoch 23/30\n",
      "781/781 [==============================] - 63s 81ms/step - loss: 0.0952 - acc: 0.9660 - val_loss: 0.5336 - val_acc: 0.8680\n",
      "Epoch 24/30\n",
      "781/781 [==============================] - 64s 81ms/step - loss: 0.0912 - acc: 0.9673 - val_loss: 0.5242 - val_acc: 0.8661\n",
      "Epoch 25/30\n",
      "781/781 [==============================] - 63s 81ms/step - loss: 0.0900 - acc: 0.9680 - val_loss: 0.4736 - val_acc: 0.8764\n",
      "Epoch 26/30\n",
      "781/781 [==============================] - 63s 81ms/step - loss: 0.0765 - acc: 0.9732 - val_loss: 0.5086 - val_acc: 0.8747\n",
      "Epoch 27/30\n",
      "781/781 [==============================] - 63s 81ms/step - loss: 0.0747 - acc: 0.9730 - val_loss: 0.5004 - val_acc: 0.8750\n",
      "Epoch 28/30\n",
      "781/781 [==============================] - 64s 81ms/step - loss: 0.0704 - acc: 0.9753 - val_loss: 0.5049 - val_acc: 0.8715\n",
      "Epoch 29/30\n",
      "781/781 [==============================] - 65s 83ms/step - loss: 0.0640 - acc: 0.9775 - val_loss: 0.5434 - val_acc: 0.8741\n",
      "Epoch 30/30\n",
      "781/781 [==============================] - 64s 82ms/step - loss: 0.0648 - acc: 0.9768 - val_loss: 0.5174 - val_acc: 0.8754\n"
     ]
    }
   ],
   "source": [
    "import keras\n",
    "from keras import models\n",
    "from keras import layers\n",
    "from keras import optimizers\n",
    "from keras.preprocessing.image import ImageDataGenerator\n",
    "datagen = ImageDataGenerator(featurewise_center=False,  # set input mean to 0 over the dataset\n",
    "                             samplewise_center=False,  # set each sample mean to 0\n",
    "                             featurewise_std_normalization=False,  # divide inputs by std of the dataset\n",
    "                             samplewise_std_normalization=False,  # divide each input by its std\n",
    "                             zca_whitening=False,  # apply ZCA whitening\n",
    "                             rotation_range=0,  # randomly rotate images in the range (degrees, 0 to 180)\n",
    "                             width_shift_range=0.1,  # randomly shift images horizontally (fraction of total width)\n",
    "                             height_shift_range=0.1,  # randomly shift images vertically (fraction of total height)\n",
    "                             horizontal_flip=True,  # randomly flip images\n",
    "                             vertical_flip=False)  # randomly flip images\n",
    "\n",
    "# Compute quantities required for feature-wise normalization\n",
    "# (std, mean, and principal components if ZCA whitening is applied).\n",
    "datagen.fit(X_train)\n",
    "\n",
    "\n",
    "model = models.Sequential()\n",
    "model.add(conv_base)                   \n",
    "model.add(layers.Flatten())            \n",
    "model.add(layers.Dense(256, activation='relu'))\n",
    "model.add(layers.Dense(10, activation='softmax'))\n",
    "\n",
    "model.summary()  \n",
    "\n",
    "model.compile(optimizer=optimizers.Adam(2e-5),\n",
    "              loss='categorical_crossentropy',\n",
    "              metrics=['acc'])\n",
    "\n",
    "# Fit the model on the batches generated by datagen.flow().\n",
    "history = model.fit_generator(datagen.flow(X_train, y_train,\n",
    "                                           batch_size=64),\n",
    "                                           steps_per_epoch=X_train.shape[0] // 64,\n",
    "                                           epochs=30,\n",
    "                                           validation_data=(X_test, y_test))"
   ]
  },
  {
   "cell_type": "code",
   "execution_count": 7,
   "metadata": {},
   "outputs": [
    {
     "name": "stdout",
     "output_type": "stream",
     "text": [
      "Test loss: 0.5173803413689136\n",
      "Test accuracy: 0.8754\n"
     ]
    }
   ],
   "source": [
    "results = model.evaluate(X_test, y_test, verbose=0)\n",
    "print('Test loss:', results[0])\n",
    "print('Test accuracy:', results[1])"
   ]
  },
  {
   "cell_type": "code",
   "execution_count": 8,
   "metadata": {},
   "outputs": [
    {
     "data": {
      "text/plain": [
       "<matplotlib.legend.Legend at 0x21e44868198>"
      ]
     },
     "execution_count": 8,
     "metadata": {},
     "output_type": "execute_result"
    },
    {
     "data": {
      "image/png": "[encoded data removed]",
      "text/plain": [
       "<Figure size 720x432 with 1 Axes>"
      ]
     },
     "metadata": {
      "needs_background": "light"
     },
     "output_type": "display_data"
    },
    {
     "data": {
      "image/png": "[encoded data removed]",
      "text/plain": [
       "<Figure size 720x432 with 1 Axes>"
      ]
     },
     "metadata": {
      "needs_background": "light"
     },
     "output_type": "display_data"
    }
   ],
   "source": [
    "import matplotlib.pyplot as plt\n",
    "%matplotlib inline\n",
    "\n",
    "plt.rcParams['figure.figsize'] = (10, 6)\n",
    "\n",
    "acc = history.history['acc']\n",
    "val_acc = history.history['val_acc']\n",
    "loss = history.history['loss']\n",
    "val_loss = history.history['val_loss']\n",
    "\n",
    "epochs = range(1, len(acc) + 1)\n",
    "\n",
    "plt.plot(epochs, acc, 'bo', label='Training acc')\n",
    "plt.plot(epochs, val_acc, 'b', label='Validation acc')\n",
    "plt.title('Training and validation accuracy')\n",
    "plt.legend()\n",
    "\n",
    "plt.figure()\n",
    "\n",
    "plt.plot(epochs, loss, 'bo', label='Training loss')\n",
    "plt.plot(epochs, val_loss, 'b', label='Validation loss')\n",
    "plt.title('Training and validation loss')\n",
    "plt.legend()"
   ]
  },
  {
   "cell_type": "markdown",
   "metadata": {},
   "source": [
    "### 將所有層凍結到指定層為止"
   ]
  },
  {
   "cell_type": "code",
   "execution_count": 9,
   "metadata": {},
   "outputs": [],
   "source": [
    "conv_base.trainable = True\n",
    "set_trainable = False\n",
    "\n",
    "for layer in conv_base.layers:\n",
    "    if layer.name == 'block5_conv1':\n",
    "        set_trainable = True\n",
    "    if set_trainable:\n",
    "        layer.trainable = True\n",
    "    else:\n",
    "        layer.trainable = False"
   ]
  },
  {
   "cell_type": "markdown",
   "metadata": {},
   "source": [
    "### 微調神經網路"
   ]
  },
  {
   "cell_type": "code",
   "execution_count": 10,
   "metadata": {
    "scrolled": true
   },
   "outputs": [
    {
     "name": "stdout",
     "output_type": "stream",
     "text": [
      "_________________________________________________________________\n",
      "Layer (type)                 Output Shape              Param #   \n",
      "=================================================================\n",
      "vgg16 (Model)                (None, 1, 1, 512)         14714688  \n",
      "_________________________________________________________________\n",
      "flatten_1 (Flatten)          (None, 512)               0         \n",
      "_________________________________________________________________\n",
      "dense_1 (Dense)              (None, 256)               131328    \n",
      "_________________________________________________________________\n",
      "dense_2 (Dense)              (None, 10)                2570      \n",
      "=================================================================\n",
      "Total params: 22,483,850\n",
      "Trainable params: 14,848,586\n",
      "Non-trainable params: 7,635,264\n",
      "_________________________________________________________________\n"
     ]
    },
    {
     "name": "stderr",
     "output_type": "stream",
     "text": [
      "C:\\Users\\henry\\Anaconda3\\envs\\finlab\\lib\\site-packages\\keras\\engine\\training.py:490: UserWarning: Discrepancy between trainable weights and collected trainable weights, did you set `model.trainable` without calling `model.compile` after ?\n",
      "  'Discrepancy between trainable weights and collected trainable'\n"
     ]
    },
    {
     "name": "stdout",
     "output_type": "stream",
     "text": [
      "Epoch 1/100\n",
      "781/781 [==============================] - 34s 44ms/step - loss: 0.0069 - acc: 0.9977 - val_loss: 0.0936 - val_acc: 0.9766\n",
      "Epoch 2/100\n",
      "781/781 [==============================] - 34s 44ms/step - loss: 0.0056 - acc: 0.9982 - val_loss: 0.0986 - val_acc: 0.9767\n",
      "Epoch 3/100\n",
      "781/781 [==============================] - 34s 43ms/step - loss: 0.0046 - acc: 0.9984 - val_loss: 0.1029 - val_acc: 0.9764\n",
      "Epoch 4/100\n",
      "781/781 [==============================] - 34s 43ms/step - loss: 0.0047 - acc: 0.9984 - val_loss: 0.1057 - val_acc: 0.9763\n",
      "Epoch 5/100\n",
      "781/781 [==============================] - 34s 43ms/step - loss: 0.0043 - acc: 0.9986 - val_loss: 0.1026 - val_acc: 0.9771\n",
      "Epoch 6/100\n",
      "781/781 [==============================] - 34s 43ms/step - loss: 0.0041 - acc: 0.9986 - val_loss: 0.1048 - val_acc: 0.9766\n",
      "Epoch 7/100\n",
      "781/781 [==============================] - 34s 43ms/step - loss: 0.0036 - acc: 0.9989 - val_loss: 0.1067 - val_acc: 0.9766\n",
      "Epoch 8/100\n",
      "781/781 [==============================] - 34s 43ms/step - loss: 0.0036 - acc: 0.9988 - val_loss: 0.1083 - val_acc: 0.9767\n",
      "Epoch 9/100\n",
      "781/781 [==============================] - 34s 43ms/step - loss: 0.0033 - acc: 0.9989 - val_loss: 0.1108 - val_acc: 0.9768\n",
      "Epoch 10/100\n",
      "781/781 [==============================] - 34s 43ms/step - loss: 0.0036 - acc: 0.9988 - val_loss: 0.1094 - val_acc: 0.9772\n",
      "Epoch 11/100\n",
      "781/781 [==============================] - 34s 43ms/step - loss: 0.0032 - acc: 0.9990 - val_loss: 0.1127 - val_acc: 0.9771\n",
      "Epoch 12/100\n",
      "781/781 [==============================] - 34s 43ms/step - loss: 0.0031 - acc: 0.9990 - val_loss: 0.1153 - val_acc: 0.9765\n",
      "Epoch 13/100\n",
      "781/781 [==============================] - 34s 43ms/step - loss: 0.0029 - acc: 0.9989 - val_loss: 0.1120 - val_acc: 0.9772\n",
      "Epoch 14/100\n",
      "781/781 [==============================] - 34s 43ms/step - loss: 0.0030 - acc: 0.9990 - val_loss: 0.1145 - val_acc: 0.9766\n",
      "Epoch 15/100\n",
      "781/781 [==============================] - 34s 43ms/step - loss: 0.0030 - acc: 0.9990 - val_loss: 0.1135 - val_acc: 0.9766\n",
      "Epoch 16/100\n",
      "781/781 [==============================] - 34s 44ms/step - loss: 0.0027 - acc: 0.9991 - val_loss: 0.1165 - val_acc: 0.9760\n",
      "Epoch 17/100\n",
      "781/781 [==============================] - 34s 44ms/step - loss: 0.0027 - acc: 0.9990 - val_loss: 0.1157 - val_acc: 0.9765\n",
      "Epoch 18/100\n",
      "781/781 [==============================] - 34s 43ms/step - loss: 0.0027 - acc: 0.9991 - val_loss: 0.1200 - val_acc: 0.9770\n",
      "Epoch 19/100\n",
      "781/781 [==============================] - 34s 43ms/step - loss: 0.0025 - acc: 0.9992 - val_loss: 0.1202 - val_acc: 0.9768\n",
      "Epoch 20/100\n",
      "781/781 [==============================] - 35s 45ms/step - loss: 0.0025 - acc: 0.9991 - val_loss: 0.1252 - val_acc: 0.9756\n",
      "Epoch 21/100\n",
      "781/781 [==============================] - 34s 44ms/step - loss: 0.0022 - acc: 0.9993 - val_loss: 0.1242 - val_acc: 0.9767\n",
      "Epoch 22/100\n",
      "781/781 [==============================] - 34s 44ms/step - loss: 0.0025 - acc: 0.9991 - val_loss: 0.1227 - val_acc: 0.9764\n",
      "Epoch 23/100\n",
      "781/781 [==============================] - 35s 44ms/step - loss: 0.0021 - acc: 0.9993 - val_loss: 0.1260 - val_acc: 0.9764\n",
      "Epoch 24/100\n",
      "781/781 [==============================] - 34s 44ms/step - loss: 0.0024 - acc: 0.9992 - val_loss: 0.1238 - val_acc: 0.9763\n",
      "Epoch 25/100\n",
      "781/781 [==============================] - 34s 43ms/step - loss: 0.0021 - acc: 0.9993 - val_loss: 0.1268 - val_acc: 0.9766\n",
      "Epoch 26/100\n",
      "781/781 [==============================] - 34s 44ms/step - loss: 0.0023 - acc: 0.9992 - val_loss: 0.1281 - val_acc: 0.9759\n",
      "Epoch 27/100\n",
      "781/781 [==============================] - 34s 43ms/step - loss: 0.0019 - acc: 0.9994 - val_loss: 0.1258 - val_acc: 0.9762\n",
      "Epoch 28/100\n",
      "781/781 [==============================] - 34s 43ms/step - loss: 0.0022 - acc: 0.9992 - val_loss: 0.1275 - val_acc: 0.9768\n"
     ]
    }
   ],
   "source": [
    "model.summary()\n",
    "model.compile(optimizer=optimizers.Adam(lr=1e-5),\n",
    "              loss='binary_crossentropy',\n",
    "              metrics=['acc'])\n",
    "callbacks_list = [keras.callbacks.EarlyStopping(monitor='val_acc', patience=15),\n",
    "                  keras.callbacks.ModelCheckpoint(filepath='VGG16.h5', monitor='val_loss', save_best_only=True)]\n",
    "history = model.fit_generator(datagen.flow(X_train, y_train,\n",
    "                                           batch_size=64),\n",
    "                                           steps_per_epoch=X_train.shape[0] // 64,\n",
    "                                           epochs=100,\n",
    "                                           validation_data=(X_test, y_test),\n",
    "                                           callbacks=callbacks_list)"
   ]
  },
  {
   "cell_type": "code",
   "execution_count": 11,
   "metadata": {},
   "outputs": [],
   "source": [
    "model.load_weights(\"VGG16.h5\")"
   ]
  },
  {
   "cell_type": "code",
   "execution_count": 12,
   "metadata": {},
   "outputs": [
    {
     "name": "stdout",
     "output_type": "stream",
     "text": [
      "Test loss: 0.09361088271066546\n",
      "Test accuracy: 0.9765500038146973\n"
     ]
    }
   ],
   "source": [
    "results = model.evaluate(X_test, y_test, verbose=0)\n",
    "print('Test loss:', results[0])\n",
    "print('Test accuracy:', results[1])"
   ]
  },
  {
   "cell_type": "code",
   "execution_count": 13,
   "metadata": {},
   "outputs": [
    {
     "data": {
      "text/plain": [
       "<matplotlib.legend.Legend at 0x21e44fa8e48>"
      ]
     },
     "execution_count": 13,
     "metadata": {},
     "output_type": "execute_result"
    },
    {
     "data": {
      "image/png": "[encoded data removed]",
      "text/plain": [
       "<Figure size 720x432 with 1 Axes>"
      ]
     },
     "metadata": {
      "needs_background": "light"
     },
     "output_type": "display_data"
    },
    {
     "data": {
      "image/png": "[encoded data removed]",
      "text/plain": [
       "<Figure size 720x432 with 1 Axes>"
      ]
     },
     "metadata": {
      "needs_background": "light"
     },
     "output_type": "display_data"
    }
   ],
   "source": [
    "plt.rcParams['figure.figsize'] = (10, 6)\n",
    "\n",
    "acc = history.history['acc']\n",
    "val_acc = history.history['val_acc']\n",
    "loss = history.history['loss']\n",
    "val_loss = history.history['val_loss']\n",
    "\n",
    "epochs = range(1, len(acc) + 1)\n",
    "\n",
    "plt.plot(epochs, acc, 'bo', label='Training acc')\n",
    "plt.plot(epochs, val_acc, 'b', label='Validation acc')\n",
    "plt.title('Training and validation accuracy')\n",
    "plt.legend()\n",
    "\n",
    "plt.figure()\n",
    "\n",
    "plt.plot(epochs, loss, 'bo', label='Training loss')\n",
    "plt.plot(epochs, val_loss, 'b', label='Validation loss')\n",
    "plt.title('Training and validation loss')\n",
    "plt.legend()"
   ]
  },
  {
   "cell_type": "code",
   "execution_count": null,
   "metadata": {},
   "outputs": [],
   "source": []
  }
 ],
 "metadata": {
  "kernelspec": {
   "display_name": "finlab",
   "language": "python",
   "name": "finlab"
  },
  "language_info": {
   "codemirror_mode": {
    "name": "ipython",
    "version": 3
   },
   "file_extension": ".py",
   "mimetype": "text/x-python",
   "name": "python",
   "nbconvert_exporter": "python",
   "pygments_lexer": "ipython3",
   "version": "3.6.9"
  }
 },
 "nbformat": 4,
 "nbformat_minor": 4
}
