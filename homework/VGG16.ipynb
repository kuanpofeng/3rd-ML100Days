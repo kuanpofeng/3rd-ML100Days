{
 "cells": [
  {
   "cell_type": "code",
   "execution_count": 21,
   "metadata": {},
   "outputs": [],
   "source": [
    "import numpy as np\n",
    "import pandas as pd\n",
    "import matplotlib.pyplot as plt\n",
    "%matplotlib inline\n",
    "\n",
    "import os\n",
    "import random\n",
    "import shutil"
   ]
  },
  {
   "cell_type": "code",
   "execution_count": 22,
   "metadata": {},
   "outputs": [],
   "source": [
    "train_dir = r'D:\\機器學習百日馬拉松\\D101-D103：Kaggle期末考 考影像辨識\\ml100-03-final\\image_data\\train'\n",
    "validation_dir = r'D:\\機器學習百日馬拉松\\D101-D103：Kaggle期末考 考影像辨識\\ml100-03-final\\image_data\\validation'\n",
    "test_dir = r'D:\\機器學習百日馬拉松\\D101-D103：Kaggle期末考 考影像辨識\\ml100-03-final\\image_data\\test'\n",
    "\n",
    "\n",
    "train_dataset_daisy = r'D:\\機器學習百日馬拉松\\D101-D103：Kaggle期末考 考影像辨識\\ml100-03-final\\image_data\\train\\daisy' \n",
    "train_dataset_dandelion = r'D:\\機器學習百日馬拉松\\D101-D103：Kaggle期末考 考影像辨識\\ml100-03-final\\image_data\\train\\dandelion' \n",
    "train_dataset_rose = r'D:\\機器學習百日馬拉松\\D101-D103：Kaggle期末考 考影像辨識\\ml100-03-final\\image_data\\train\\rose' \n",
    "train_dataset_sunflower = r'D:\\機器學習百日馬拉松\\D101-D103：Kaggle期末考 考影像辨識\\ml100-03-final\\image_data\\train\\sunflower' \n",
    "train_dataset_tulip = r'D:\\機器學習百日馬拉松\\D101-D103：Kaggle期末考 考影像辨識\\ml100-03-final\\image_data\\train\\tulip' "
   ]
  },
  {
   "cell_type": "code",
   "execution_count": 23,
   "metadata": {},
   "outputs": [],
   "source": [
    "validation_dataset_daisy = os.path.join(validation_dir, 'daisy')\n",
    "if not os.path.isdir(validation_dataset_daisy):\n",
    "    os.mkdir(validation_dataset_daisy)\n",
    "    \n",
    "validation_dataset_dandelion = os.path.join(validation_dir, 'dandelion')\n",
    "if not os.path.isdir(validation_dataset_dandelion):\n",
    "    os.mkdir(validation_dataset_dandelion)\n",
    "    \n",
    "validation_dataset_rose = os.path.join(validation_dir, 'rose')\n",
    "if not os.path.isdir(validation_dataset_rose):\n",
    "    os.mkdir(validation_dataset_rose)\n",
    "    \n",
    "validation_dataset_sunflower = os.path.join(validation_dir, 'sunflower')\n",
    "if not os.path.isdir(validation_dataset_sunflower):\n",
    "    os.mkdir(validation_dataset_sunflower)\n",
    "\n",
    "validation_dataset_tulip = os.path.join(validation_dir, 'tulip')\n",
    "if not os.path.isdir(validation_dataset_tulip):\n",
    "    os.mkdir(validation_dataset_tulip)"
   ]
  },
  {
   "cell_type": "code",
   "execution_count": 24,
   "metadata": {},
   "outputs": [],
   "source": [
    "# fnames = [i for i in os.listdir(train_dataset_daisy)[:100]]\n",
    "# for fname in fnames:\n",
    "#     src = os.path.join(train_dataset_daisy, fname)\n",
    "#     dst = os.path.join(validation_dataset_daisy, fname)\n",
    "#     shutil.move(src, dst)        "
   ]
  },
  {
   "cell_type": "code",
   "execution_count": 25,
   "metadata": {},
   "outputs": [],
   "source": [
    "# fnames = [i for i in os.listdir(train_dataset_dandelion)[:100]]\n",
    "# for fname in fnames:\n",
    "#     src = os.path.join(train_dataset_dandelion, fname)\n",
    "#     dst = os.path.join(validation_dataset_dandelion, fname)\n",
    "#     shutil.move(src, dst)"
   ]
  },
  {
   "cell_type": "code",
   "execution_count": 26,
   "metadata": {},
   "outputs": [],
   "source": [
    "# fnames = [i for i in os.listdir(train_dataset_rose)[:100]]\n",
    "# for fname in fnames:\n",
    "#     src = os.path.join(train_dataset_rose, fname)\n",
    "#     dst = os.path.join(validation_dataset_rose, fname)\n",
    "#     shutil.move(src, dst)"
   ]
  },
  {
   "cell_type": "code",
   "execution_count": 27,
   "metadata": {},
   "outputs": [],
   "source": [
    "# fnames = [i for i in os.listdir(train_dataset_sunflower)[:100]]\n",
    "# for fname in fnames:\n",
    "#     src = os.path.join(train_dataset_sunflower, fname)\n",
    "#     dst = os.path.join(validation_dataset_sunflower, fname)\n",
    "#     shutil.move(src, dst)"
   ]
  },
  {
   "cell_type": "code",
   "execution_count": 28,
   "metadata": {},
   "outputs": [],
   "source": [
    "# fnames = [i for i in os.listdir(train_dataset_tulip)[:100]]\n",
    "# for fname in fnames:\n",
    "#     src = os.path.join(train_dataset_tulip, fname)\n",
    "#     dst = os.path.join(validation_dataset_tulip, fname)\n",
    "#     shutil.move(src, dst)"
   ]
  },
  {
   "cell_type": "markdown",
   "metadata": {},
   "source": [
    "# 創建VGG16 model"
   ]
  },
  {
   "cell_type": "code",
   "execution_count": 29,
   "metadata": {
    "scrolled": true
   },
   "outputs": [
    {
     "name": "stdout",
     "output_type": "stream",
     "text": [
      "_________________________________________________________________\n",
      "Layer (type)                 Output Shape              Param #   \n",
      "=================================================================\n",
      "input_2 (InputLayer)         (None, 224, 224, 3)       0         \n",
      "_________________________________________________________________\n",
      "block1_conv1 (Conv2D)        (None, 224, 224, 64)      1792      \n",
      "_________________________________________________________________\n",
      "block1_conv2 (Conv2D)        (None, 224, 224, 64)      36928     \n",
      "_________________________________________________________________\n",
      "block1_pool (MaxPooling2D)   (None, 112, 112, 64)      0         \n",
      "_________________________________________________________________\n",
      "block2_conv1 (Conv2D)        (None, 112, 112, 128)     73856     \n",
      "_________________________________________________________________\n",
      "block2_conv2 (Conv2D)        (None, 112, 112, 128)     147584    \n",
      "_________________________________________________________________\n",
      "block2_pool (MaxPooling2D)   (None, 56, 56, 128)       0         \n",
      "_________________________________________________________________\n",
      "block3_conv1 (Conv2D)        (None, 56, 56, 256)       295168    \n",
      "_________________________________________________________________\n",
      "block3_conv2 (Conv2D)        (None, 56, 56, 256)       590080    \n",
      "_________________________________________________________________\n",
      "block3_conv3 (Conv2D)        (None, 56, 56, 256)       590080    \n",
      "_________________________________________________________________\n",
      "block3_pool (MaxPooling2D)   (None, 28, 28, 256)       0         \n",
      "_________________________________________________________________\n",
      "block4_conv1 (Conv2D)        (None, 28, 28, 512)       1180160   \n",
      "_________________________________________________________________\n",
      "block4_conv2 (Conv2D)        (None, 28, 28, 512)       2359808   \n",
      "_________________________________________________________________\n",
      "block4_conv3 (Conv2D)        (None, 28, 28, 512)       2359808   \n",
      "_________________________________________________________________\n",
      "block4_pool (MaxPooling2D)   (None, 14, 14, 512)       0         \n",
      "_________________________________________________________________\n",
      "block5_conv1 (Conv2D)        (None, 14, 14, 512)       2359808   \n",
      "_________________________________________________________________\n",
      "block5_conv2 (Conv2D)        (None, 14, 14, 512)       2359808   \n",
      "_________________________________________________________________\n",
      "block5_conv3 (Conv2D)        (None, 14, 14, 512)       2359808   \n",
      "_________________________________________________________________\n",
      "block5_pool (MaxPooling2D)   (None, 7, 7, 512)         0         \n",
      "=================================================================\n",
      "Total params: 14,714,688\n",
      "Trainable params: 14,714,688\n",
      "Non-trainable params: 0\n",
      "_________________________________________________________________\n",
      "_________________________________________________________________\n",
      "Layer (type)                 Output Shape              Param #   \n",
      "=================================================================\n",
      "vgg16 (Model)                (None, 7, 7, 512)         14714688  \n",
      "_________________________________________________________________\n",
      "flatten_2 (Flatten)          (None, 25088)             0         \n",
      "_________________________________________________________________\n",
      "dense_3 (Dense)              (None, 256)               6422784   \n",
      "_________________________________________________________________\n",
      "dense_4 (Dense)              (None, 5)                 1285      \n",
      "=================================================================\n",
      "Total params: 21,138,757\n",
      "Trainable params: 21,138,757\n",
      "Non-trainable params: 0\n",
      "_________________________________________________________________\n"
     ]
    }
   ],
   "source": [
    "import keras\n",
    "from keras import models\n",
    "from keras import layers\n",
    "from keras.applications import VGG16\n",
    "\n",
    "conv_base = VGG16(weights='imagenet',\n",
    "                  include_top=False,\n",
    "                  input_shape=(224, 224, 3))\n",
    "conv_base.summary()\n",
    "\n",
    "model = models.Sequential()\n",
    "model.add(conv_base)                   \n",
    "model.add(layers.Flatten())            \n",
    "model.add(layers.Dense(256, activation='relu'))\n",
    "model.add(layers.Dense(5, activation='softmax'))  \n",
    "model.summary()  "
   ]
  },
  {
   "cell_type": "code",
   "execution_count": 31,
   "metadata": {
    "scrolled": true
   },
   "outputs": [
    {
     "name": "stdout",
     "output_type": "stream",
     "text": [
      "Found 2323 images belonging to 5 classes.\n",
      "Found 500 images belonging to 5 classes.\n",
      "Class #0 = daisy\n",
      "Class #1 = dandelion\n",
      "Class #2 = rose\n",
      "Class #3 = sunflower\n",
      "Class #4 = tulip\n"
     ]
    }
   ],
   "source": [
    "from keras.preprocessing.image import ImageDataGenerator\n",
    "from keras import optimizers\n",
    "\n",
    "train_datagen = ImageDataGenerator(rescale=1./255, \n",
    "                                   rotation_range=40,\n",
    "                                   width_shift_range=0.2,\n",
    "                                   height_shift_range=0.2,\n",
    "                                   shear_range=0.2,\n",
    "                                   zoom_range=0.2,\n",
    "                                   horizontal_flip=True,\n",
    "                                   fill_mode='nearest')\n",
    "\n",
    "test_datagen = ImageDataGenerator(rescale=1./255)  \n",
    "\n",
    "train_generator = train_datagen.flow_from_directory(train_dir,  \n",
    "                                                    target_size=(224, 224),  \n",
    "                                                    batch_size=5,\n",
    "                                                    class_mode='sparse')  \n",
    "\n",
    "validation_generator = test_datagen.flow_from_directory(validation_dir,\n",
    "                                                        target_size=(224, 224),\n",
    "                                                        batch_size=5,\n",
    "                                                        class_mode='sparse')\n",
    "\n",
    "for cls, idx in train_generator.class_indices.items():\n",
    "    print('Class #{} = {}'.format(idx, cls))"
   ]
  },
  {
   "cell_type": "code",
   "execution_count": 32,
   "metadata": {
    "scrolled": true
   },
   "outputs": [
    {
     "name": "stdout",
     "output_type": "stream",
     "text": [
      "Epoch 1/30\n",
      "80/80 [==============================] - 15s 185ms/step - loss: 1.3556 - acc: 0.4200 - val_loss: 1.2457 - val_acc: 0.5600\n",
      "Epoch 2/30\n",
      "80/80 [==============================] - 13s 163ms/step - loss: 0.9312 - acc: 0.6325 - val_loss: 0.7581 - val_acc: 0.7100\n",
      "Epoch 3/30\n",
      "80/80 [==============================] - 13s 162ms/step - loss: 0.7092 - acc: 0.7575 - val_loss: 0.4038 - val_acc: 0.8500\n",
      "Epoch 4/30\n",
      "80/80 [==============================] - 13s 162ms/step - loss: 0.6778 - acc: 0.7650 - val_loss: 0.4984 - val_acc: 0.8000\n",
      "Epoch 5/30\n",
      "80/80 [==============================] - 13s 162ms/step - loss: 0.6347 - acc: 0.7650 - val_loss: 0.5504 - val_acc: 0.7500\n",
      "Epoch 6/30\n",
      "80/80 [==============================] - 13s 162ms/step - loss: 0.6252 - acc: 0.7600 - val_loss: 0.7105 - val_acc: 0.7400\n",
      "Epoch 7/30\n",
      "80/80 [==============================] - 13s 163ms/step - loss: 0.5175 - acc: 0.8025 - val_loss: 0.4387 - val_acc: 0.8100\n",
      "Epoch 8/30\n",
      "80/80 [==============================] - 13s 163ms/step - loss: 0.5304 - acc: 0.8050 - val_loss: 0.3193 - val_acc: 0.8800\n",
      "Epoch 9/30\n",
      "80/80 [==============================] - 13s 163ms/step - loss: 0.4666 - acc: 0.8450 - val_loss: 0.2272 - val_acc: 0.9400\n",
      "Epoch 10/30\n",
      "80/80 [==============================] - 13s 165ms/step - loss: 0.3951 - acc: 0.8550 - val_loss: 0.5294 - val_acc: 0.8300\n",
      "Epoch 11/30\n",
      "80/80 [==============================] - 13s 164ms/step - loss: 0.4528 - acc: 0.8350 - val_loss: 0.3595 - val_acc: 0.8500\n",
      "Epoch 12/30\n",
      "80/80 [==============================] - 13s 162ms/step - loss: 0.5002 - acc: 0.8100 - val_loss: 0.5085 - val_acc: 0.8300\n",
      "Epoch 13/30\n",
      "80/80 [==============================] - 13s 163ms/step - loss: 0.4438 - acc: 0.8250 - val_loss: 0.4864 - val_acc: 0.8400\n",
      "Epoch 14/30\n",
      "80/80 [==============================] - 13s 163ms/step - loss: 0.3153 - acc: 0.8700 - val_loss: 0.4251 - val_acc: 0.8500\n",
      "Epoch 15/30\n",
      "80/80 [==============================] - 13s 163ms/step - loss: 0.4030 - acc: 0.8500 - val_loss: 0.4741 - val_acc: 0.8400\n",
      "Epoch 16/30\n",
      "80/80 [==============================] - 13s 163ms/step - loss: 0.3977 - acc: 0.8375 - val_loss: 0.3029 - val_acc: 0.9100\n",
      "Epoch 17/30\n",
      "80/80 [==============================] - 13s 163ms/step - loss: 0.3891 - acc: 0.8500 - val_loss: 0.4528 - val_acc: 0.8000\n",
      "Epoch 18/30\n",
      "80/80 [==============================] - 13s 166ms/step - loss: 0.3830 - acc: 0.8625 - val_loss: 0.3714 - val_acc: 0.8500\n",
      "Epoch 19/30\n",
      "80/80 [==============================] - 13s 165ms/step - loss: 0.3366 - acc: 0.8775 - val_loss: 0.3608 - val_acc: 0.8900\n",
      "Epoch 20/30\n",
      "80/80 [==============================] - 13s 166ms/step - loss: 0.2702 - acc: 0.8850 - val_loss: 0.5393 - val_acc: 0.8200\n",
      "Epoch 21/30\n",
      "80/80 [==============================] - 13s 164ms/step - loss: 0.3206 - acc: 0.8825 - val_loss: 0.4597 - val_acc: 0.8800\n",
      "Epoch 22/30\n",
      "80/80 [==============================] - 13s 163ms/step - loss: 0.3551 - acc: 0.8675 - val_loss: 0.2470 - val_acc: 0.9100\n",
      "Epoch 23/30\n",
      "80/80 [==============================] - 13s 163ms/step - loss: 0.3540 - acc: 0.8650 - val_loss: 0.3395 - val_acc: 0.8800\n",
      "Epoch 24/30\n",
      "80/80 [==============================] - 13s 162ms/step - loss: 0.2222 - acc: 0.9100 - val_loss: 0.3169 - val_acc: 0.8900\n",
      "Epoch 25/30\n",
      "80/80 [==============================] - 13s 163ms/step - loss: 0.3050 - acc: 0.8850 - val_loss: 0.3994 - val_acc: 0.8800\n",
      "Epoch 26/30\n",
      "80/80 [==============================] - 13s 164ms/step - loss: 0.2841 - acc: 0.9075 - val_loss: 0.3893 - val_acc: 0.8800\n",
      "Epoch 27/30\n",
      "80/80 [==============================] - 13s 168ms/step - loss: 0.2922 - acc: 0.8925 - val_loss: 0.3147 - val_acc: 0.9100\n",
      "Epoch 28/30\n",
      "80/80 [==============================] - 14s 171ms/step - loss: 0.2851 - acc: 0.9000 - val_loss: 0.4097 - val_acc: 0.8400\n",
      "Epoch 29/30\n",
      "80/80 [==============================] - 13s 167ms/step - loss: 0.3164 - acc: 0.8875 - val_loss: 0.4741 - val_acc: 0.8200\n",
      "Epoch 30/30\n",
      "80/80 [==============================] - 13s 164ms/step - loss: 0.2283 - acc: 0.9175 - val_loss: 0.1907 - val_acc: 0.9300\n"
     ]
    }
   ],
   "source": [
    "model.compile(optimizer=optimizers.Adam(lr=2e-5),\n",
    "              loss='sparse_categorical_crossentropy',\n",
    "              metrics=['acc'])\n",
    "\n",
    "history = model.fit_generator(train_generator,\n",
    "                              steps_per_epoch=80,\n",
    "                              epochs=30,\n",
    "                              validation_data=validation_generator,\n",
    "                              validation_steps=20)"
   ]
  },
  {
   "cell_type": "code",
   "execution_count": 33,
   "metadata": {},
   "outputs": [
    {
     "name": "stdout",
     "output_type": "stream",
     "text": [
      "Test loss: 0.2565889004035853\n",
      "Test accuracy: 0.9000000059604645\n"
     ]
    }
   ],
   "source": [
    "results = model.evaluate_generator(validation_generator, steps=20)\n",
    "print('Test loss:', results[0])\n",
    "print('Test accuracy:', results[1])"
   ]
  },
  {
   "cell_type": "code",
   "execution_count": 34,
   "metadata": {},
   "outputs": [
    {
     "data": {
      "text/plain": [
       "<matplotlib.legend.Legend at 0x1216eee1278>"
      ]
     },
     "execution_count": 34,
     "metadata": {},
     "output_type": "execute_result"
    },
    {
     "data": {
      "image/png": "[encoded data removed]",
      "text/plain": [
       "<Figure size 720x432 with 1 Axes>"
      ]
     },
     "metadata": {
      "needs_background": "light"
     },
     "output_type": "display_data"
    },
    {
     "data": {
      "image/png": "[encoded data removed]",
      "text/plain": [
       "<Figure size 720x432 with 1 Axes>"
      ]
     },
     "metadata": {
      "needs_background": "light"
     },
     "output_type": "display_data"
    }
   ],
   "source": [
    "plt.rcParams['figure.figsize'] = (10, 6)\n",
    "\n",
    "acc = history.history['acc']\n",
    "val_acc = history.history['val_acc']\n",
    "loss = history.history['loss']\n",
    "val_loss = history.history['val_loss']\n",
    "\n",
    "epochs = range(1, len(acc) + 1)\n",
    "\n",
    "plt.plot(epochs, acc, 'bo', label='Training acc')\n",
    "plt.plot(epochs, val_acc, 'b', label='Validation acc')\n",
    "plt.title('Training and validation accuracy')\n",
    "plt.legend()\n",
    "\n",
    "plt.figure()\n",
    "\n",
    "plt.plot(epochs, loss, 'bo', label='Training loss')\n",
    "plt.plot(epochs, val_loss, 'b', label='Validation loss')\n",
    "plt.title('Training and validation loss')\n",
    "plt.legend()"
   ]
  },
  {
   "cell_type": "markdown",
   "metadata": {},
   "source": [
    "### 凍結某些層"
   ]
  },
  {
   "cell_type": "code",
   "execution_count": 35,
   "metadata": {},
   "outputs": [],
   "source": [
    "conv_base.trainable = True\n",
    "set_trainable = False\n",
    "\n",
    "for layer in conv_base.layers:\n",
    "    if layer.name == 'block5_conv1':\n",
    "        set_trainable = True\n",
    "    if set_trainable:\n",
    "        layer.trainable = True\n",
    "    else:\n",
    "        layer.trainable = False"
   ]
  },
  {
   "cell_type": "code",
   "execution_count": 36,
   "metadata": {
    "scrolled": true
   },
   "outputs": [
    {
     "name": "stdout",
     "output_type": "stream",
     "text": [
      "_________________________________________________________________\n",
      "Layer (type)                 Output Shape              Param #   \n",
      "=================================================================\n",
      "vgg16 (Model)                (None, 7, 7, 512)         14714688  \n",
      "_________________________________________________________________\n",
      "flatten_2 (Flatten)          (None, 25088)             0         \n",
      "_________________________________________________________________\n",
      "dense_3 (Dense)              (None, 256)               6422784   \n",
      "_________________________________________________________________\n",
      "dense_4 (Dense)              (None, 5)                 1285      \n",
      "=================================================================\n",
      "Total params: 28,774,021\n",
      "Trainable params: 21,138,757\n",
      "Non-trainable params: 7,635,264\n",
      "_________________________________________________________________\n"
     ]
    },
    {
     "name": "stderr",
     "output_type": "stream",
     "text": [
      "C:\\Users\\henry\\Anaconda3\\envs\\finlab\\lib\\site-packages\\keras\\engine\\training.py:490: UserWarning: Discrepancy between trainable weights and collected trainable weights, did you set `model.trainable` without calling `model.compile` after ?\n",
      "  'Discrepancy between trainable weights and collected trainable'\n"
     ]
    },
    {
     "name": "stdout",
     "output_type": "stream",
     "text": [
      "Epoch 1/100\n",
      "80/80 [==============================] - 8s 99ms/step - loss: 0.1964 - acc: 0.9275 - val_loss: 0.1330 - val_acc: 0.9600\n",
      "Epoch 2/100\n",
      "80/80 [==============================] - 7s 83ms/step - loss: 0.1694 - acc: 0.9375 - val_loss: 0.3207 - val_acc: 0.9000\n",
      "Epoch 3/100\n",
      "80/80 [==============================] - 7s 82ms/step - loss: 0.2270 - acc: 0.9175 - val_loss: 0.2725 - val_acc: 0.8900\n",
      "Epoch 4/100\n",
      "80/80 [==============================] - 7s 84ms/step - loss: 0.1763 - acc: 0.9300 - val_loss: 0.3296 - val_acc: 0.9000\n",
      "Epoch 5/100\n",
      "80/80 [==============================] - 7s 85ms/step - loss: 0.1369 - acc: 0.9600 - val_loss: 0.1909 - val_acc: 0.9100\n",
      "Epoch 6/100\n",
      "80/80 [==============================] - 7s 84ms/step - loss: 0.1186 - acc: 0.9650 - val_loss: 0.2102 - val_acc: 0.9400\n",
      "Epoch 7/100\n",
      "80/80 [==============================] - 7s 82ms/step - loss: 0.1436 - acc: 0.9350 - val_loss: 0.4823 - val_acc: 0.9000\n",
      "Epoch 8/100\n",
      "80/80 [==============================] - 7s 82ms/step - loss: 0.1213 - acc: 0.9550 - val_loss: 0.1897 - val_acc: 0.9400\n",
      "Epoch 9/100\n",
      "80/80 [==============================] - 7s 82ms/step - loss: 0.1468 - acc: 0.9475 - val_loss: 0.2076 - val_acc: 0.9400\n",
      "Epoch 10/100\n",
      "80/80 [==============================] - 7s 83ms/step - loss: 0.1625 - acc: 0.9450 - val_loss: 0.2641 - val_acc: 0.9200\n",
      "Epoch 11/100\n",
      "80/80 [==============================] - 7s 82ms/step - loss: 0.1229 - acc: 0.9625 - val_loss: 0.2969 - val_acc: 0.9000\n",
      "Epoch 12/100\n",
      "80/80 [==============================] - 7s 84ms/step - loss: 0.1402 - acc: 0.9400 - val_loss: 0.1762 - val_acc: 0.9600\n",
      "Epoch 13/100\n",
      "80/80 [==============================] - 7s 83ms/step - loss: 0.0947 - acc: 0.9650 - val_loss: 0.3694 - val_acc: 0.9000\n",
      "Epoch 14/100\n",
      "80/80 [==============================] - 7s 85ms/step - loss: 0.1150 - acc: 0.9550 - val_loss: 0.6056 - val_acc: 0.8900\n",
      "Epoch 15/100\n",
      "80/80 [==============================] - 7s 82ms/step - loss: 0.1316 - acc: 0.9625 - val_loss: 0.2721 - val_acc: 0.9100\n",
      "Epoch 16/100\n",
      "80/80 [==============================] - 7s 83ms/step - loss: 0.0807 - acc: 0.9725 - val_loss: 0.3309 - val_acc: 0.9500\n"
     ]
    }
   ],
   "source": [
    "model.summary()\n",
    "model.compile(optimizer=optimizers.Adam(lr=1e-5),\n",
    "              loss='sparse_categorical_crossentropy',\n",
    "              metrics=['acc'])\n",
    "callbacks_list = [keras.callbacks.EarlyStopping(monitor='val_acc', patience=15),\n",
    "                  keras.callbacks.ModelCheckpoint(filepath='VGG16.h5', monitor='val_loss', save_best_only=True)]\n",
    "\n",
    "history = model.fit_generator(train_generator,\n",
    "                              steps_per_epoch=80,\n",
    "                              epochs=100,\n",
    "                              validation_data=validation_generator,\n",
    "                              validation_steps=20,\n",
    "                              callbacks=callbacks_list)"
   ]
  },
  {
   "cell_type": "code",
   "execution_count": 37,
   "metadata": {},
   "outputs": [
    {
     "data": {
      "text/plain": [
       "<matplotlib.legend.Legend at 0x1217d5a6fd0>"
      ]
     },
     "execution_count": 37,
     "metadata": {},
     "output_type": "execute_result"
    },
    {
     "data": {
      "image/png": "[encoded data removed]",
      "text/plain": [
       "<Figure size 720x432 with 1 Axes>"
      ]
     },
     "metadata": {
      "needs_background": "light"
     },
     "output_type": "display_data"
    },
    {
     "data": {
      "image/png": "[encoded data removed]",
      "text/plain": [
       "<Figure size 720x432 with 1 Axes>"
      ]
     },
     "metadata": {
      "needs_background": "light"
     },
     "output_type": "display_data"
    }
   ],
   "source": [
    "plt.rcParams['figure.figsize'] = (10, 6)\n",
    "\n",
    "acc = history.history['acc']\n",
    "val_acc = history.history['val_acc']\n",
    "loss = history.history['loss']\n",
    "val_loss = history.history['val_loss']\n",
    "\n",
    "epochs = range(1, len(acc) + 1)\n",
    "\n",
    "plt.plot(epochs, acc, 'bo', label='Training acc')\n",
    "plt.plot(epochs, val_acc, 'b', label='Validation acc')\n",
    "plt.title('Training and validation accuracy')\n",
    "plt.legend()\n",
    "\n",
    "plt.figure()\n",
    "\n",
    "plt.plot(epochs, loss, 'bo', label='Training loss')\n",
    "plt.plot(epochs, val_loss, 'b', label='Validation loss')\n",
    "plt.title('Training and validation loss')\n",
    "plt.legend()"
   ]
  },
  {
   "cell_type": "code",
   "execution_count": 38,
   "metadata": {},
   "outputs": [],
   "source": [
    "model.load_weights(\"VGG16.h5\")"
   ]
  },
  {
   "cell_type": "code",
   "execution_count": 39,
   "metadata": {},
   "outputs": [
    {
     "name": "stdout",
     "output_type": "stream",
     "text": [
      "Test loss: 0.1344749629544822\n",
      "Test accuracy: 0.9400000020861625\n"
     ]
    }
   ],
   "source": [
    "results = model.evaluate_generator(validation_generator, steps=20)\n",
    "print('Test loss:', results[0])\n",
    "print('Test accuracy:', results[1])"
   ]
  },
  {
   "cell_type": "code",
   "execution_count": 43,
   "metadata": {},
   "outputs": [],
   "source": [
    "from keras.preprocessing import image\n",
    "\n",
    "out = np.array(['id', 'flower_class'])\n",
    "testfiles = os.listdir(test_dir)\n",
    "for testfile in testfiles:\n",
    "    filename = testfile.split('.')[0]\n",
    "    img = image.load_img(test_dir + '/' + testfile, target_size=(224, 224))\n",
    "    if img is None:\n",
    "        continue\n",
    "    x = image.img_to_array(img)\n",
    "    x = np.expand_dims(x, axis=0)\n",
    "    x /= 255.\n",
    "    y_pred = model.predict(x)[0]\n",
    "    tof = np.argmax(y_pred)\n",
    "    out = np.vstack((out, [filename, tof]))\n",
    "\n",
    "pd.DataFrame(out).to_csv('prediction.csv', index=False, header=False)"
   ]
  },
  {
   "cell_type": "code",
   "execution_count": null,
   "metadata": {},
   "outputs": [],
   "source": []
  }
 ],
 "metadata": {
  "kernelspec": {
   "display_name": "finlab",
   "language": "python",
   "name": "finlab"
  },
  "language_info": {
   "codemirror_mode": {
    "name": "ipython",
    "version": 3
   },
   "file_extension": ".py",
   "mimetype": "text/x-python",
   "name": "python",
   "nbconvert_exporter": "python",
   "pygments_lexer": "ipython3",
   "version": "3.6.9"
  }
 },
 "nbformat": 4,
 "nbformat_minor": 4
}
