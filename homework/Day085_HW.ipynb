{
 "cells": [
  {
   "cell_type": "markdown",
   "metadata": {},
   "source": [
    "## Work\n",
    "1. 試改變 monitor \"Validation Accuracy\" 並比較結果\n",
    "2. 調整 earlystop 的等待次數至 10, 25 並比較結果"
   ]
  },
  {
   "cell_type": "code",
   "execution_count": 1,
   "metadata": {},
   "outputs": [
    {
     "name": "stderr",
     "output_type": "stream",
     "text": [
      "Using TensorFlow backend.\n"
     ]
    }
   ],
   "source": [
    "import os\n",
    "import keras\n",
    "\n",
    "# Disable GPU\n",
    "# os.environ[\"CUDA_VISIBLE_DEVICES\"] = \"\""
   ]
  },
  {
   "cell_type": "code",
   "execution_count": 2,
   "metadata": {},
   "outputs": [],
   "source": [
    "import tensorflow as tf\n",
    "gpu_options = tf.GPUOptions(per_process_gpu_memory_fraction=0.333)\n",
    "sess = tf.Session(config=tf.ConfigProto(gpu_options=gpu_options))"
   ]
  },
  {
   "cell_type": "code",
   "execution_count": 3,
   "metadata": {},
   "outputs": [],
   "source": [
    "from keras.datasets import cifar10\n",
    "(x_train, y_train), (x_test, y_test) = cifar10.load_data()"
   ]
  },
  {
   "cell_type": "code",
   "execution_count": 4,
   "metadata": {},
   "outputs": [],
   "source": [
    "## 資料前處理\n",
    "def preproc_x(x, flatten=True):\n",
    "    x = x / 255.\n",
    "    if flatten:\n",
    "        x = x.reshape((len(x), -1))\n",
    "    return x\n",
    "\n",
    "def preproc_y(y, num_classes=10):\n",
    "    if y.shape[-1] == 1:\n",
    "        y = keras.utils.to_categorical(y, num_classes)\n",
    "    return y    "
   ]
  },
  {
   "cell_type": "code",
   "execution_count": 5,
   "metadata": {},
   "outputs": [],
   "source": [
    "# Preproc the inputs\n",
    "x_train = preproc_x(x_train)\n",
    "x_test = preproc_x(x_test)\n",
    "\n",
    "# Preprc the outputs\n",
    "y_train = preproc_y(y_train)\n",
    "y_test = preproc_y(y_test)"
   ]
  },
  {
   "cell_type": "code",
   "execution_count": 6,
   "metadata": {},
   "outputs": [],
   "source": [
    "from keras.layers import Dense, Input, BatchNormalization\n",
    "from keras.models import Model\n",
    "def build_mlp(input_shape, output_units=10, num_neurons=[512, 256, 128]):\n",
    "    input_layer = Input(input_shape)\n",
    "    \n",
    "    for i, n_units in enumerate(num_neurons):\n",
    "        if i == 0:\n",
    "            x = Dense(units=n_units, \n",
    "                      activation=\"relu\", \n",
    "                      name=\"hidden_layer\"+str(i+1))(input_layer)\n",
    "            x = BatchNormalization()(x)\n",
    "        else:\n",
    "            x = Dense(units=n_units, \n",
    "                      activation=\"relu\", \n",
    "                      name=\"hidden_layer\"+str(i+1))(x)\n",
    "            x = BatchNormalization()(x)\n",
    "    \n",
    "    out = Dense(units=output_units, activation=\"softmax\", name=\"output\")(x)\n",
    "    \n",
    "    model = Model(inputs=[input_layer], outputs=[out])\n",
    "    return model"
   ]
  },
  {
   "cell_type": "code",
   "execution_count": 7,
   "metadata": {},
   "outputs": [],
   "source": [
    "\"\"\"Code Here\n",
    "設定超參數\n",
    "\"\"\"\n",
    "LEARNING_RATE = 1e-3\n",
    "EPOCHS = 50\n",
    "BATCH_SIZE = 1024\n",
    "MOMENTUM = 0.95"
   ]
  },
  {
   "cell_type": "code",
   "execution_count": 8,
   "metadata": {
    "scrolled": true
   },
   "outputs": [
    {
     "name": "stderr",
     "output_type": "stream",
     "text": [
      "WARNING: Logging before flag parsing goes to stderr.\n",
      "W0327 23:44:56.869631 34344 deprecation_wrapper.py:119] From C:\\Users\\henry\\Anaconda3\\envs\\finlab\\lib\\site-packages\\keras\\backend\\tensorflow_backend.py:74: The name tf.get_default_graph is deprecated. Please use tf.compat.v1.get_default_graph instead.\n",
      "\n",
      "W0327 23:44:56.870631 34344 deprecation_wrapper.py:119] From C:\\Users\\henry\\Anaconda3\\envs\\finlab\\lib\\site-packages\\keras\\backend\\tensorflow_backend.py:517: The name tf.placeholder is deprecated. Please use tf.compat.v1.placeholder instead.\n",
      "\n",
      "W0327 23:44:56.872631 34344 deprecation_wrapper.py:119] From C:\\Users\\henry\\Anaconda3\\envs\\finlab\\lib\\site-packages\\keras\\backend\\tensorflow_backend.py:4138: The name tf.random_uniform is deprecated. Please use tf.random.uniform instead.\n",
      "\n",
      "W0327 23:44:56.972654 34344 deprecation_wrapper.py:119] From C:\\Users\\henry\\Anaconda3\\envs\\finlab\\lib\\site-packages\\keras\\backend\\tensorflow_backend.py:133: The name tf.placeholder_with_default is deprecated. Please use tf.compat.v1.placeholder_with_default instead.\n",
      "\n",
      "W0327 23:44:57.095682 34344 deprecation_wrapper.py:119] From C:\\Users\\henry\\Anaconda3\\envs\\finlab\\lib\\site-packages\\keras\\optimizers.py:790: The name tf.train.Optimizer is deprecated. Please use tf.compat.v1.train.Optimizer instead.\n",
      "\n",
      "W0327 23:44:57.099683 34344 deprecation_wrapper.py:119] From C:\\Users\\henry\\Anaconda3\\envs\\finlab\\lib\\site-packages\\keras\\backend\\tensorflow_backend.py:3295: The name tf.log is deprecated. Please use tf.math.log instead.\n",
      "\n",
      "W0327 23:44:57.150694 34344 deprecation.py:323] From C:\\Users\\henry\\Anaconda3\\envs\\finlab\\lib\\site-packages\\tensorflow\\python\\ops\\math_grad.py:1250: add_dispatch_support.<locals>.wrapper (from tensorflow.python.ops.array_ops) is deprecated and will be removed in a future version.\n",
      "Instructions for updating:\n",
      "Use tf.where in 2.0, which has the same broadcast rule as np.where\n"
     ]
    },
    {
     "name": "stdout",
     "output_type": "stream",
     "text": [
      "_________________________________________________________________\n",
      "Layer (type)                 Output Shape              Param #   \n",
      "=================================================================\n",
      "input_1 (InputLayer)         (None, 3072)              0         \n",
      "_________________________________________________________________\n",
      "hidden_layer1 (Dense)        (None, 512)               1573376   \n",
      "_________________________________________________________________\n",
      "batch_normalization_1 (Batch (None, 512)               2048      \n",
      "_________________________________________________________________\n",
      "hidden_layer2 (Dense)        (None, 256)               131328    \n",
      "_________________________________________________________________\n",
      "batch_normalization_2 (Batch (None, 256)               1024      \n",
      "_________________________________________________________________\n",
      "hidden_layer3 (Dense)        (None, 128)               32896     \n",
      "_________________________________________________________________\n",
      "batch_normalization_3 (Batch (None, 128)               512       \n",
      "_________________________________________________________________\n",
      "output (Dense)               (None, 10)                1290      \n",
      "=================================================================\n",
      "Total params: 1,742,474\n",
      "Trainable params: 1,740,682\n",
      "Non-trainable params: 1,792\n",
      "_________________________________________________________________\n",
      "Train on 50000 samples, validate on 10000 samples\n",
      "Epoch 1/50\n",
      "50000/50000 [==============================] - 2s 49us/step - loss: 2.2226 - acc: 0.2634 - val_loss: 2.1922 - val_acc: 0.2984\n",
      "Epoch 2/50\n",
      "50000/50000 [==============================] - 2s 32us/step - loss: 1.7484 - acc: 0.3908 - val_loss: 1.7851 - val_acc: 0.3746\n",
      "Epoch 3/50\n",
      "50000/50000 [==============================] - 2s 32us/step - loss: 1.6270 - acc: 0.4299 - val_loss: 1.6745 - val_acc: 0.4160\n",
      "Epoch 4/50\n",
      "50000/50000 [==============================] - 2s 32us/step - loss: 1.5519 - acc: 0.4579 - val_loss: 1.6273 - val_acc: 0.4237\n",
      "Epoch 5/50\n",
      "50000/50000 [==============================] - 2s 31us/step - loss: 1.4982 - acc: 0.4747 - val_loss: 1.5826 - val_acc: 0.4407\n",
      "Epoch 6/50\n",
      "50000/50000 [==============================] - 2s 31us/step - loss: 1.4526 - acc: 0.4929 - val_loss: 1.5602 - val_acc: 0.4531\n",
      "Epoch 7/50\n",
      "50000/50000 [==============================] - 2s 32us/step - loss: 1.4117 - acc: 0.5072 - val_loss: 1.5457 - val_acc: 0.4538\n",
      "Epoch 8/50\n",
      "50000/50000 [==============================] - 2s 31us/step - loss: 1.3768 - acc: 0.5210 - val_loss: 1.5202 - val_acc: 0.4602\n",
      "Epoch 9/50\n",
      "50000/50000 [==============================] - 2s 31us/step - loss: 1.3424 - acc: 0.5334 - val_loss: 1.5088 - val_acc: 0.4679\n",
      "Epoch 10/50\n",
      "50000/50000 [==============================] - 2s 31us/step - loss: 1.3126 - acc: 0.5438 - val_loss: 1.4916 - val_acc: 0.4683\n",
      "Epoch 11/50\n",
      "50000/50000 [==============================] - 2s 31us/step - loss: 1.2853 - acc: 0.5531 - val_loss: 1.4931 - val_acc: 0.4677\n",
      "Epoch 12/50\n",
      "50000/50000 [==============================] - 2s 32us/step - loss: 1.2574 - acc: 0.5661 - val_loss: 1.4719 - val_acc: 0.4790\n",
      "Epoch 13/50\n",
      "50000/50000 [==============================] - 2s 32us/step - loss: 1.2308 - acc: 0.5740 - val_loss: 1.4679 - val_acc: 0.4805\n",
      "Epoch 14/50\n",
      "50000/50000 [==============================] - 2s 31us/step - loss: 1.2068 - acc: 0.5827 - val_loss: 1.4616 - val_acc: 0.4866\n",
      "Epoch 15/50\n",
      "50000/50000 [==============================] - 2s 31us/step - loss: 1.1851 - acc: 0.5910 - val_loss: 1.4604 - val_acc: 0.4853\n",
      "Epoch 16/50\n",
      "50000/50000 [==============================] - 2s 32us/step - loss: 1.1618 - acc: 0.6000 - val_loss: 1.4575 - val_acc: 0.4858\n",
      "Epoch 17/50\n",
      "50000/50000 [==============================] - 2s 32us/step - loss: 1.1377 - acc: 0.6093 - val_loss: 1.4558 - val_acc: 0.4802\n",
      "Epoch 18/50\n",
      "50000/50000 [==============================] - 2s 32us/step - loss: 1.1148 - acc: 0.6179 - val_loss: 1.4522 - val_acc: 0.4835\n",
      "Epoch 19/50\n",
      "50000/50000 [==============================] - 2s 32us/step - loss: 1.0932 - acc: 0.6254 - val_loss: 1.4462 - val_acc: 0.4896\n",
      "Epoch 20/50\n",
      "50000/50000 [==============================] - 2s 32us/step - loss: 1.0724 - acc: 0.6343 - val_loss: 1.4504 - val_acc: 0.4903\n",
      "Epoch 21/50\n",
      "50000/50000 [==============================] - 2s 32us/step - loss: 1.0510 - acc: 0.6417 - val_loss: 1.4551 - val_acc: 0.4921\n",
      "Epoch 22/50\n",
      "50000/50000 [==============================] - 2s 32us/step - loss: 1.0291 - acc: 0.6506 - val_loss: 1.4495 - val_acc: 0.4878\n",
      "Epoch 23/50\n",
      "50000/50000 [==============================] - 2s 32us/step - loss: 1.0073 - acc: 0.6587 - val_loss: 1.4564 - val_acc: 0.4904\n",
      "Epoch 24/50\n",
      "50000/50000 [==============================] - 2s 32us/step - loss: 0.9867 - acc: 0.6664 - val_loss: 1.4585 - val_acc: 0.4925\n",
      "Epoch 25/50\n",
      "50000/50000 [==============================] - 2s 32us/step - loss: 0.9659 - acc: 0.6743 - val_loss: 1.4734 - val_acc: 0.4904\n",
      "Epoch 26/50\n",
      "50000/50000 [==============================] - 2s 32us/step - loss: 0.9455 - acc: 0.6839 - val_loss: 1.4663 - val_acc: 0.4967\n",
      "Epoch 27/50\n",
      "50000/50000 [==============================] - 2s 32us/step - loss: 0.9233 - acc: 0.6908 - val_loss: 1.4602 - val_acc: 0.4919\n",
      "Epoch 28/50\n",
      "50000/50000 [==============================] - 2s 32us/step - loss: 0.9049 - acc: 0.6969 - val_loss: 1.4652 - val_acc: 0.4937\n",
      "Epoch 29/50\n",
      "50000/50000 [==============================] - 2s 31us/step - loss: 0.8860 - acc: 0.7079 - val_loss: 1.4665 - val_acc: 0.4928\n",
      "Epoch 30/50\n",
      "50000/50000 [==============================] - 2s 32us/step - loss: 0.8638 - acc: 0.7141 - val_loss: 1.4707 - val_acc: 0.4905\n",
      "Epoch 31/50\n",
      "50000/50000 [==============================] - 2s 32us/step - loss: 0.8467 - acc: 0.7218 - val_loss: 1.4956 - val_acc: 0.4923\n",
      "Epoch 32/50\n",
      "50000/50000 [==============================] - 2s 32us/step - loss: 0.8254 - acc: 0.7302 - val_loss: 1.5040 - val_acc: 0.4865\n",
      "Epoch 33/50\n",
      "50000/50000 [==============================] - 2s 32us/step - loss: 0.8069 - acc: 0.7375 - val_loss: 1.4906 - val_acc: 0.4993\n",
      "Epoch 34/50\n",
      "50000/50000 [==============================] - 2s 32us/step - loss: 0.7864 - acc: 0.7446 - val_loss: 1.4962 - val_acc: 0.5010\n",
      "Epoch 35/50\n",
      "50000/50000 [==============================] - 2s 32us/step - loss: 0.7681 - acc: 0.7506 - val_loss: 1.5220 - val_acc: 0.4864\n",
      "Epoch 36/50\n",
      "50000/50000 [==============================] - 2s 32us/step - loss: 0.7495 - acc: 0.7607 - val_loss: 1.4946 - val_acc: 0.4994\n",
      "Epoch 37/50\n",
      "50000/50000 [==============================] - 2s 32us/step - loss: 0.7310 - acc: 0.7660 - val_loss: 1.5314 - val_acc: 0.4882\n",
      "Epoch 38/50\n",
      "50000/50000 [==============================] - 2s 32us/step - loss: 0.7124 - acc: 0.7758 - val_loss: 1.5156 - val_acc: 0.5007\n",
      "Epoch 39/50\n",
      "50000/50000 [==============================] - 2s 31us/step - loss: 0.6959 - acc: 0.7812 - val_loss: 1.5245 - val_acc: 0.4963\n",
      "Epoch 40/50\n",
      "50000/50000 [==============================] - 2s 32us/step - loss: 0.6748 - acc: 0.7887 - val_loss: 1.5408 - val_acc: 0.4958\n",
      "Epoch 41/50\n",
      "50000/50000 [==============================] - 2s 32us/step - loss: 0.6560 - acc: 0.7981 - val_loss: 1.5676 - val_acc: 0.4955\n",
      "Epoch 42/50\n",
      "50000/50000 [==============================] - 2s 31us/step - loss: 0.6412 - acc: 0.8008 - val_loss: 1.5780 - val_acc: 0.4969\n",
      "Epoch 43/50\n",
      "50000/50000 [==============================] - 2s 31us/step - loss: 0.6216 - acc: 0.8098 - val_loss: 1.5732 - val_acc: 0.4963\n",
      "Epoch 44/50\n",
      "50000/50000 [==============================] - 2s 32us/step - loss: 0.6040 - acc: 0.8180 - val_loss: 1.5779 - val_acc: 0.4945\n",
      "Epoch 00044: early stopping\n"
     ]
    }
   ],
   "source": [
    "# 載入 Callbacks\n",
    "\"\"\"Code Here\n",
    "設定 callbacks: Earlystop\n",
    "\"\"\"\n",
    "from keras.optimizers import SGD\n",
    "from keras.callbacks import EarlyStopping\n",
    "\n",
    "earlystop = EarlyStopping(monitor=\"val_acc\", \n",
    "                          patience=10, \n",
    "                          verbose=1\n",
    "                          )\n",
    "\"\"\"Code Here\n",
    "撰寫你的訓練流程並將結果用 dictionary 紀錄\n",
    "\"\"\"\n",
    "\n",
    "    \n",
    "model = build_mlp(input_shape=x_train.shape[1:])\n",
    "model.summary()\n",
    "optimizer = SGD(lr=LEARNING_RATE, nesterov=True, momentum=MOMENTUM)\n",
    "model.compile(optimizer=optimizer, loss=\"categorical_crossentropy\", metrics=[\"accuracy\"])\n",
    "\n",
    "history = model.fit(x_train, y_train, \n",
    "                    epochs=EPOCHS, \n",
    "                    batch_size=BATCH_SIZE, \n",
    "                    validation_data=(x_test, y_test), \n",
    "                    shuffle=True,\n",
    "                    callbacks=[earlystop])\n",
    "\n",
    "# Collect results\n",
    "train_loss = history.history[\"loss\"]\n",
    "valid_loss = history.history[\"val_loss\"]\n",
    "train_acc = history.history[\"acc\"]\n",
    "valid_acc = history.history[\"val_acc\"]"
   ]
  },
  {
   "cell_type": "code",
   "execution_count": 9,
   "metadata": {},
   "outputs": [
    {
     "data": {
      "text/plain": [
       "Text(0.5, 1.0, 'Accuracy')"
      ]
     },
     "execution_count": 9,
     "metadata": {},
     "output_type": "execute_result"
    },
    {
     "data": {
      "image/png": "[encoded data removed]",
      "text/plain": [
       "<Figure size 432x288 with 1 Axes>"
      ]
     },
     "metadata": {
      "needs_background": "light"
     },
     "output_type": "display_data"
    },
    {
     "data": {
      "image/png": "[encoded data removed]",
      "text/plain": [
       "<Figure size 432x288 with 1 Axes>"
      ]
     },
     "metadata": {
      "needs_background": "light"
     },
     "output_type": "display_data"
    }
   ],
   "source": [
    "import matplotlib.pyplot as plt\n",
    "%matplotlib inline\n",
    "\"\"\"Code Here\n",
    "將結果繪出\n",
    "\"\"\"\n",
    "\n",
    "plt.plot(range(len(train_loss)), train_loss, label=\"train loss\")\n",
    "plt.plot(range(len(valid_loss)), valid_loss, label=\"valid loss\")\n",
    "plt.legend()\n",
    "plt.title(\"Loss\")\n",
    "\n",
    "plt.figure()\n",
    "\n",
    "plt.plot(range(len(train_acc)), train_acc, label=\"train accuracy\")\n",
    "plt.plot(range(len(valid_acc)), valid_acc, label=\"valid accuracy\")\n",
    "plt.legend()\n",
    "plt.title(\"Accuracy\")"
   ]
  }
 ],
 "metadata": {
  "kernelspec": {
   "display_name": "finlab",
   "language": "python",
   "name": "finlab"
  },
  "language_info": {
   "codemirror_mode": {
    "name": "ipython",
    "version": 3
   },
   "file_extension": ".py",
   "mimetype": "text/x-python",
   "name": "python",
   "nbconvert_exporter": "python",
   "pygments_lexer": "ipython3",
   "version": "3.6.9"
  }
 },
 "nbformat": 4,
 "nbformat_minor": 4
}
