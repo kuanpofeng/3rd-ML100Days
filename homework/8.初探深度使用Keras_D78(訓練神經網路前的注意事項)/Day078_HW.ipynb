{
 "cells": [
  {
   "cell_type": "markdown",
   "metadata": {},
   "source": [
    "## Work\n",
    "1. 請嘗試將 preproc_x 替換成以每筆資料的 min/max 進行標準化至 -1 ~ 1 間，再進行訓練\n",
    "2. 請嘗試將 mlp 疊更深 (e.g 5~10 層)，進行訓練後觀察 learning curve 的走勢\n",
    "3. (optional) 請改用 GPU 進行訓練 (如果你有 GPU 的話)，比較使用 CPU 與 GPU 的訓練速度"
   ]
  },
  {
   "cell_type": "code",
   "execution_count": 1,
   "metadata": {},
   "outputs": [
    {
     "name": "stderr",
     "output_type": "stream",
     "text": [
      "'nvidia-smi' 不是內部或外部命令、可執行的程式或批次檔。\n"
     ]
    }
   ],
   "source": [
    "## \n",
    "\"\"\"\n",
    "Your code here (optional)\n",
    "確認硬體資源\n",
    "\"\"\"\n",
    "!nvidia-smi"
   ]
  },
  {
   "cell_type": "code",
   "execution_count": 3,
   "metadata": {},
   "outputs": [],
   "source": [
    "import os\n",
    "import keras\n",
    "\n",
    "# 請嘗試設定 GPU：os.environ\n",
    "os.environ[\"CUDA_DEVICE_ORDER\"]=\"PCI_BUS_ID\" "
   ]
  },
  {
   "cell_type": "code",
   "execution_count": 4,
   "metadata": {},
   "outputs": [],
   "source": [
    "import tensorflow as tf\n",
    "gpu_options = tf.GPUOptions(per_process_gpu_memory_fraction=0.333)\n",
    "sess = tf.Session(config=tf.ConfigProto(gpu_options=gpu_options))"
   ]
  },
  {
   "cell_type": "code",
   "execution_count": 5,
   "metadata": {},
   "outputs": [],
   "source": [
    "from keras.datasets import cifar10\n",
    "(x_train, y_train), (x_test, y_test) = cifar10.load_data()"
   ]
  },
  {
   "cell_type": "code",
   "execution_count": 6,
   "metadata": {},
   "outputs": [],
   "source": [
    "## 資料前處理\n",
    "from keras.utils import to_categorical\n",
    "\n",
    "def preproc_x(x, flatten=True):\n",
    "    x = 2*(((x - x.min()) / (x.max() - x.min()))-0.5)\n",
    "    if flatten:\n",
    "        x = x.reshape((len(x), -1))\n",
    "    return x\n",
    "\n",
    "def preproc_y(y, num_classes=10):\n",
    "    if y.shape[-1] == 1:\n",
    "        y = to_categorical(y, num_classes)\n",
    "    return y "
   ]
  },
  {
   "cell_type": "code",
   "execution_count": 7,
   "metadata": {},
   "outputs": [],
   "source": [
    "# Preproc the inputs\n",
    "x_train = preproc_x(x_train)\n",
    "x_test = preproc_x(x_test)\n",
    "\n",
    "# Preprc the outputs\n",
    "y_train = preproc_y(y_train)\n",
    "y_test = preproc_y(y_test)"
   ]
  },
  {
   "cell_type": "code",
   "execution_count": 8,
   "metadata": {},
   "outputs": [],
   "source": [
    "\"\"\"Code Here\n",
    "建立你的神經網路\n",
    "\"\"\"\n",
    "from keras.layers import Input, Dense\n",
    "from keras.models import Model\n",
    "\n",
    "def build_mlp(input_shape, output_units=10, num_neurons=[512, 256, 128]):\n",
    "    input_layer = Input(input_shape)\n",
    "    \n",
    "    for i, n_units in enumerate(num_neurons):\n",
    "        if i == 0:\n",
    "            x = Dense(units=n_units, activation=\"relu\", name=\"hidden_layer\"+str(i+1))(input_layer)\n",
    "        else:\n",
    "            x = Dense(units=n_units, activation=\"relu\", name=\"hidden_layer\"+str(i+1))(x)\n",
    "    \n",
    "    out = Dense(units=output_units, activation=\"softmax\", name=\"output\")(x)\n",
    "    \n",
    "    model = Model(inputs=[input_layer], outputs=[out])\n",
    "    return model\n",
    "\n"
   ]
  },
  {
   "cell_type": "code",
   "execution_count": 9,
   "metadata": {},
   "outputs": [
    {
     "name": "stderr",
     "output_type": "stream",
     "text": [
      "WARNING: Logging before flag parsing goes to stderr.\n",
      "W0325 23:12:39.499290 30180 deprecation_wrapper.py:119] From C:\\Users\\henry\\Anaconda3\\envs\\finlab\\lib\\site-packages\\keras\\backend\\tensorflow_backend.py:74: The name tf.get_default_graph is deprecated. Please use tf.compat.v1.get_default_graph instead.\n",
      "\n",
      "W0325 23:12:39.500291 30180 deprecation_wrapper.py:119] From C:\\Users\\henry\\Anaconda3\\envs\\finlab\\lib\\site-packages\\keras\\backend\\tensorflow_backend.py:517: The name tf.placeholder is deprecated. Please use tf.compat.v1.placeholder instead.\n",
      "\n",
      "W0325 23:12:39.502292 30180 deprecation_wrapper.py:119] From C:\\Users\\henry\\Anaconda3\\envs\\finlab\\lib\\site-packages\\keras\\backend\\tensorflow_backend.py:4138: The name tf.random_uniform is deprecated. Please use tf.random.uniform instead.\n",
      "\n"
     ]
    },
    {
     "name": "stdout",
     "output_type": "stream",
     "text": [
      "_________________________________________________________________\n",
      "Layer (type)                 Output Shape              Param #   \n",
      "=================================================================\n",
      "input_1 (InputLayer)         (None, 3072)              0         \n",
      "_________________________________________________________________\n",
      "hidden_layer1 (Dense)        (None, 512)               1573376   \n",
      "_________________________________________________________________\n",
      "hidden_layer2 (Dense)        (None, 256)               131328    \n",
      "_________________________________________________________________\n",
      "hidden_layer3 (Dense)        (None, 128)               32896     \n",
      "_________________________________________________________________\n",
      "output (Dense)               (None, 10)                1290      \n",
      "=================================================================\n",
      "Total params: 1,738,890\n",
      "Trainable params: 1,738,890\n",
      "Non-trainable params: 0\n",
      "_________________________________________________________________\n"
     ]
    }
   ],
   "source": [
    "model = build_mlp(input_shape=x_train.shape[1:])\n",
    "model.summary()"
   ]
  },
  {
   "cell_type": "code",
   "execution_count": 10,
   "metadata": {},
   "outputs": [],
   "source": [
    "## 超參數設定\n",
    "LEARNING_RATE = 0.001\n",
    "EPOCHS = 100\n",
    "BATCH_SIZE = 256"
   ]
  },
  {
   "cell_type": "code",
   "execution_count": 11,
   "metadata": {},
   "outputs": [
    {
     "name": "stderr",
     "output_type": "stream",
     "text": [
      "W0325 23:12:39.553302 30180 deprecation_wrapper.py:119] From C:\\Users\\henry\\Anaconda3\\envs\\finlab\\lib\\site-packages\\keras\\optimizers.py:790: The name tf.train.Optimizer is deprecated. Please use tf.compat.v1.train.Optimizer instead.\n",
      "\n",
      "W0325 23:12:39.557304 30180 deprecation_wrapper.py:119] From C:\\Users\\henry\\Anaconda3\\envs\\finlab\\lib\\site-packages\\keras\\backend\\tensorflow_backend.py:3295: The name tf.log is deprecated. Please use tf.math.log instead.\n",
      "\n"
     ]
    }
   ],
   "source": [
    "from keras import optimizers\n",
    "optimizer = optimizers.Adam(lr=LEARNING_RATE)\n",
    "model.compile(optimizer=optimizer, loss=\"categorical_crossentropy\", metrics=[\"accuracy\"])"
   ]
  },
  {
   "cell_type": "code",
   "execution_count": 12,
   "metadata": {
    "scrolled": true
   },
   "outputs": [
    {
     "name": "stderr",
     "output_type": "stream",
     "text": [
      "W0325 23:12:39.613316 30180 deprecation.py:323] From C:\\Users\\henry\\Anaconda3\\envs\\finlab\\lib\\site-packages\\tensorflow\\python\\ops\\math_grad.py:1250: add_dispatch_support.<locals>.wrapper (from tensorflow.python.ops.array_ops) is deprecated and will be removed in a future version.\n",
      "Instructions for updating:\n",
      "Use tf.where in 2.0, which has the same broadcast rule as np.where\n",
      "W0325 23:12:39.644323 30180 deprecation_wrapper.py:119] From C:\\Users\\henry\\Anaconda3\\envs\\finlab\\lib\\site-packages\\keras\\backend\\tensorflow_backend.py:986: The name tf.assign_add is deprecated. Please use tf.compat.v1.assign_add instead.\n",
      "\n"
     ]
    },
    {
     "name": "stdout",
     "output_type": "stream",
     "text": [
      "Train on 50000 samples, validate on 10000 samples\n",
      "Epoch 1/100\n",
      "50000/50000 [==============================] - 3s 54us/step - loss: 1.6643 - acc: 0.4077 - val_loss: 1.5476 - val_acc: 0.4525\n",
      "Epoch 2/100\n",
      "50000/50000 [==============================] - 2s 42us/step - loss: 1.4426 - acc: 0.4894 - val_loss: 1.4362 - val_acc: 0.4915\n",
      "Epoch 3/100\n",
      "50000/50000 [==============================] - 2s 41us/step - loss: 1.3160 - acc: 0.5381 - val_loss: 1.3963 - val_acc: 0.5089\n",
      "Epoch 4/100\n",
      "50000/50000 [==============================] - 2s 41us/step - loss: 1.2241 - acc: 0.5700 - val_loss: 1.3779 - val_acc: 0.5165\n",
      "Epoch 5/100\n",
      "50000/50000 [==============================] - 2s 41us/step - loss: 1.1399 - acc: 0.5992 - val_loss: 1.3946 - val_acc: 0.5131\n",
      "Epoch 6/100\n",
      "50000/50000 [==============================] - 2s 42us/step - loss: 1.0528 - acc: 0.6283 - val_loss: 1.3769 - val_acc: 0.5365\n",
      "Epoch 7/100\n",
      "50000/50000 [==============================] - 2s 41us/step - loss: 0.9706 - acc: 0.6594 - val_loss: 1.4149 - val_acc: 0.5229\n",
      "Epoch 8/100\n",
      "50000/50000 [==============================] - 2s 41us/step - loss: 0.8896 - acc: 0.6866 - val_loss: 1.4374 - val_acc: 0.5389\n",
      "Epoch 9/100\n",
      "50000/50000 [==============================] - 2s 42us/step - loss: 0.8180 - acc: 0.7099 - val_loss: 1.4740 - val_acc: 0.5318\n",
      "Epoch 10/100\n",
      "50000/50000 [==============================] - 2s 42us/step - loss: 0.7462 - acc: 0.7368 - val_loss: 1.5171 - val_acc: 0.5345\n",
      "Epoch 11/100\n",
      "50000/50000 [==============================] - 2s 42us/step - loss: 0.6749 - acc: 0.7618 - val_loss: 1.5819 - val_acc: 0.5340\n",
      "Epoch 12/100\n",
      "50000/50000 [==============================] - 2s 41us/step - loss: 0.6041 - acc: 0.7881 - val_loss: 1.6695 - val_acc: 0.5313\n",
      "Epoch 13/100\n",
      "50000/50000 [==============================] - 2s 41us/step - loss: 0.5529 - acc: 0.8040 - val_loss: 1.7528 - val_acc: 0.5404\n",
      "Epoch 14/100\n",
      "50000/50000 [==============================] - 2s 41us/step - loss: 0.4841 - acc: 0.8300 - val_loss: 1.8395 - val_acc: 0.5358\n",
      "Epoch 15/100\n",
      "50000/50000 [==============================] - 2s 41us/step - loss: 0.4456 - acc: 0.8423 - val_loss: 1.9258 - val_acc: 0.5330\n",
      "Epoch 16/100\n",
      "50000/50000 [==============================] - 2s 41us/step - loss: 0.3941 - acc: 0.8593 - val_loss: 2.1134 - val_acc: 0.5240\n",
      "Epoch 17/100\n",
      "50000/50000 [==============================] - 2s 41us/step - loss: 0.3726 - acc: 0.8692 - val_loss: 2.1608 - val_acc: 0.5214\n",
      "Epoch 18/100\n",
      "50000/50000 [==============================] - 2s 41us/step - loss: 0.3279 - acc: 0.8860 - val_loss: 2.1774 - val_acc: 0.5306\n",
      "Epoch 19/100\n",
      "50000/50000 [==============================] - 2s 41us/step - loss: 0.2919 - acc: 0.8980 - val_loss: 2.3361 - val_acc: 0.5264\n",
      "Epoch 20/100\n",
      "50000/50000 [==============================] - 2s 41us/step - loss: 0.2733 - acc: 0.9047 - val_loss: 2.4239 - val_acc: 0.5349\n",
      "Epoch 21/100\n",
      "50000/50000 [==============================] - 2s 41us/step - loss: 0.2433 - acc: 0.9139 - val_loss: 2.5144 - val_acc: 0.5320\n",
      "Epoch 22/100\n",
      "50000/50000 [==============================] - 2s 41us/step - loss: 0.2422 - acc: 0.9160 - val_loss: 2.5623 - val_acc: 0.5284\n",
      "Epoch 23/100\n",
      "50000/50000 [==============================] - 2s 41us/step - loss: 0.2277 - acc: 0.9220 - val_loss: 2.7362 - val_acc: 0.5250\n",
      "Epoch 24/100\n",
      "50000/50000 [==============================] - 2s 41us/step - loss: 0.2217 - acc: 0.9225 - val_loss: 2.7299 - val_acc: 0.5258\n",
      "Epoch 25/100\n",
      "50000/50000 [==============================] - 2s 41us/step - loss: 0.2022 - acc: 0.9287 - val_loss: 2.7932 - val_acc: 0.5289\n",
      "Epoch 26/100\n",
      "50000/50000 [==============================] - 2s 41us/step - loss: 0.1868 - acc: 0.9352 - val_loss: 2.7976 - val_acc: 0.5316\n",
      "Epoch 27/100\n",
      "50000/50000 [==============================] - 2s 43us/step - loss: 0.1805 - acc: 0.9377 - val_loss: 3.0126 - val_acc: 0.5225\n",
      "Epoch 28/100\n",
      "50000/50000 [==============================] - 2s 41us/step - loss: 0.2102 - acc: 0.9276 - val_loss: 2.9147 - val_acc: 0.5222\n",
      "Epoch 29/100\n",
      "50000/50000 [==============================] - 2s 42us/step - loss: 0.1645 - acc: 0.9446 - val_loss: 3.0335 - val_acc: 0.5366\n",
      "Epoch 30/100\n",
      "50000/50000 [==============================] - 2s 42us/step - loss: 0.1567 - acc: 0.9456 - val_loss: 3.1249 - val_acc: 0.5256\n",
      "Epoch 31/100\n",
      "50000/50000 [==============================] - 2s 41us/step - loss: 0.1728 - acc: 0.9399 - val_loss: 3.1175 - val_acc: 0.5249\n",
      "Epoch 32/100\n",
      "50000/50000 [==============================] - 2s 41us/step - loss: 0.1455 - acc: 0.9499 - val_loss: 3.2289 - val_acc: 0.5242\n",
      "Epoch 33/100\n",
      "50000/50000 [==============================] - 2s 41us/step - loss: 0.1451 - acc: 0.9493 - val_loss: 3.2073 - val_acc: 0.5309\n",
      "Epoch 34/100\n",
      "50000/50000 [==============================] - 2s 41us/step - loss: 0.1532 - acc: 0.9481 - val_loss: 3.1739 - val_acc: 0.5274\n",
      "Epoch 35/100\n",
      "50000/50000 [==============================] - 2s 41us/step - loss: 0.1490 - acc: 0.9494 - val_loss: 3.2927 - val_acc: 0.5281\n",
      "Epoch 36/100\n",
      "50000/50000 [==============================] - 2s 41us/step - loss: 0.1605 - acc: 0.9462 - val_loss: 3.3964 - val_acc: 0.5252\n",
      "Epoch 37/100\n",
      "50000/50000 [==============================] - 2s 41us/step - loss: 0.1276 - acc: 0.9565 - val_loss: 3.4136 - val_acc: 0.5344\n",
      "Epoch 38/100\n",
      "50000/50000 [==============================] - 2s 41us/step - loss: 0.0962 - acc: 0.9673 - val_loss: 3.5106 - val_acc: 0.5268\n",
      "Epoch 39/100\n",
      "50000/50000 [==============================] - 2s 41us/step - loss: 0.1261 - acc: 0.9571 - val_loss: 3.5521 - val_acc: 0.5258\n",
      "Epoch 40/100\n",
      "50000/50000 [==============================] - 2s 41us/step - loss: 0.1500 - acc: 0.9497 - val_loss: 3.5856 - val_acc: 0.5273\n",
      "Epoch 41/100\n",
      "50000/50000 [==============================] - 2s 41us/step - loss: 0.1379 - acc: 0.9530 - val_loss: 3.5613 - val_acc: 0.5327\n",
      "Epoch 42/100\n",
      "50000/50000 [==============================] - 2s 41us/step - loss: 0.1308 - acc: 0.9567 - val_loss: 3.5368 - val_acc: 0.5252\n",
      "Epoch 43/100\n",
      "50000/50000 [==============================] - 2s 41us/step - loss: 0.1051 - acc: 0.9646 - val_loss: 3.6490 - val_acc: 0.5310\n",
      "Epoch 44/100\n",
      "50000/50000 [==============================] - 2s 41us/step - loss: 0.0933 - acc: 0.9687 - val_loss: 3.6601 - val_acc: 0.5289\n",
      "Epoch 45/100\n",
      "50000/50000 [==============================] - 2s 41us/step - loss: 0.1208 - acc: 0.9612 - val_loss: 3.6965 - val_acc: 0.5255\n",
      "Epoch 46/100\n",
      "50000/50000 [==============================] - 2s 41us/step - loss: 0.1192 - acc: 0.9607 - val_loss: 3.7090 - val_acc: 0.5279\n",
      "Epoch 47/100\n",
      "50000/50000 [==============================] - 2s 41us/step - loss: 0.0955 - acc: 0.9685 - val_loss: 3.7662 - val_acc: 0.5248\n",
      "Epoch 48/100\n",
      "50000/50000 [==============================] - 2s 41us/step - loss: 0.1064 - acc: 0.9639 - val_loss: 3.7686 - val_acc: 0.5222\n",
      "Epoch 49/100\n",
      "50000/50000 [==============================] - 2s 41us/step - loss: 0.1508 - acc: 0.9515 - val_loss: 3.8196 - val_acc: 0.5194\n",
      "Epoch 50/100\n",
      "50000/50000 [==============================] - 2s 41us/step - loss: 0.1214 - acc: 0.9594 - val_loss: 3.7494 - val_acc: 0.5332\n",
      "Epoch 51/100\n",
      "50000/50000 [==============================] - 2s 41us/step - loss: 0.1023 - acc: 0.9657 - val_loss: 3.9162 - val_acc: 0.5196\n",
      "Epoch 52/100\n",
      "50000/50000 [==============================] - 2s 41us/step - loss: 0.0921 - acc: 0.9697 - val_loss: 3.8165 - val_acc: 0.5308\n",
      "Epoch 53/100\n",
      "50000/50000 [==============================] - 2s 41us/step - loss: 0.0877 - acc: 0.9705 - val_loss: 3.8607 - val_acc: 0.5242\n",
      "Epoch 54/100\n",
      "50000/50000 [==============================] - 2s 41us/step - loss: 0.1144 - acc: 0.9630 - val_loss: 3.8645 - val_acc: 0.5223\n",
      "Epoch 55/100\n",
      "50000/50000 [==============================] - 2s 41us/step - loss: 0.1221 - acc: 0.9605 - val_loss: 3.8489 - val_acc: 0.5256\n",
      "Epoch 56/100\n",
      "50000/50000 [==============================] - 2s 41us/step - loss: 0.0899 - acc: 0.9708 - val_loss: 3.9413 - val_acc: 0.5233\n",
      "Epoch 57/100\n",
      "50000/50000 [==============================] - 2s 41us/step - loss: 0.0767 - acc: 0.9744 - val_loss: 3.9522 - val_acc: 0.5284\n",
      "Epoch 58/100\n",
      "50000/50000 [==============================] - 2s 41us/step - loss: 0.0638 - acc: 0.9789 - val_loss: 4.0722 - val_acc: 0.5259\n",
      "Epoch 59/100\n",
      "50000/50000 [==============================] - 2s 41us/step - loss: 0.1105 - acc: 0.9653 - val_loss: 4.0136 - val_acc: 0.5244\n",
      "Epoch 60/100\n",
      "50000/50000 [==============================] - 2s 41us/step - loss: 0.1027 - acc: 0.9659 - val_loss: 4.0551 - val_acc: 0.5200\n",
      "Epoch 61/100\n",
      "50000/50000 [==============================] - 2s 41us/step - loss: 0.1073 - acc: 0.9655 - val_loss: 4.0405 - val_acc: 0.5287\n",
      "Epoch 62/100\n",
      "50000/50000 [==============================] - 2s 41us/step - loss: 0.0980 - acc: 0.9678 - val_loss: 4.0244 - val_acc: 0.5337\n",
      "Epoch 63/100\n",
      "50000/50000 [==============================] - 2s 41us/step - loss: 0.0905 - acc: 0.9715 - val_loss: 4.0801 - val_acc: 0.5248\n",
      "Epoch 64/100\n",
      "50000/50000 [==============================] - 2s 41us/step - loss: 0.0942 - acc: 0.9695 - val_loss: 4.0331 - val_acc: 0.5272\n",
      "Epoch 65/100\n",
      "50000/50000 [==============================] - 2s 41us/step - loss: 0.0819 - acc: 0.9732 - val_loss: 4.0560 - val_acc: 0.5208\n",
      "Epoch 66/100\n",
      "50000/50000 [==============================] - 2s 41us/step - loss: 0.0768 - acc: 0.9745 - val_loss: 4.0968 - val_acc: 0.5330\n",
      "Epoch 67/100\n",
      "50000/50000 [==============================] - 2s 41us/step - loss: 0.0885 - acc: 0.9718 - val_loss: 4.0743 - val_acc: 0.5286\n",
      "Epoch 68/100\n",
      "50000/50000 [==============================] - 2s 41us/step - loss: 0.0947 - acc: 0.9708 - val_loss: 4.1324 - val_acc: 0.5249\n",
      "Epoch 69/100\n",
      "50000/50000 [==============================] - 2s 41us/step - loss: 0.0945 - acc: 0.9703 - val_loss: 4.1185 - val_acc: 0.5263\n",
      "Epoch 70/100\n",
      "50000/50000 [==============================] - 2s 41us/step - loss: 0.0875 - acc: 0.9713 - val_loss: 4.1664 - val_acc: 0.5271\n",
      "Epoch 71/100\n",
      "50000/50000 [==============================] - 2s 41us/step - loss: 0.0779 - acc: 0.9753 - val_loss: 4.1151 - val_acc: 0.5278\n",
      "Epoch 72/100\n",
      "50000/50000 [==============================] - 2s 41us/step - loss: 0.0861 - acc: 0.9716 - val_loss: 4.1756 - val_acc: 0.5268\n",
      "Epoch 73/100\n",
      "50000/50000 [==============================] - 2s 41us/step - loss: 0.0747 - acc: 0.9754 - val_loss: 4.1997 - val_acc: 0.5279\n",
      "Epoch 74/100\n",
      "50000/50000 [==============================] - 2s 41us/step - loss: 0.0720 - acc: 0.9768 - val_loss: 4.2212 - val_acc: 0.5247\n",
      "Epoch 75/100\n",
      "50000/50000 [==============================] - 2s 41us/step - loss: 0.1091 - acc: 0.9657 - val_loss: 4.2477 - val_acc: 0.5216\n",
      "Epoch 76/100\n",
      "50000/50000 [==============================] - 2s 41us/step - loss: 0.0764 - acc: 0.9766 - val_loss: 4.2227 - val_acc: 0.5246\n",
      "Epoch 77/100\n",
      "50000/50000 [==============================] - 2s 41us/step - loss: 0.0733 - acc: 0.9774 - val_loss: 4.2370 - val_acc: 0.5205\n",
      "Epoch 78/100\n",
      "50000/50000 [==============================] - 2s 41us/step - loss: 0.0758 - acc: 0.9760 - val_loss: 4.3287 - val_acc: 0.5253\n",
      "Epoch 79/100\n",
      "50000/50000 [==============================] - 2s 41us/step - loss: 0.0840 - acc: 0.9738 - val_loss: 4.2697 - val_acc: 0.5241\n",
      "Epoch 80/100\n",
      "50000/50000 [==============================] - 2s 41us/step - loss: 0.0887 - acc: 0.9719 - val_loss: 4.2337 - val_acc: 0.5303\n",
      "Epoch 81/100\n",
      "50000/50000 [==============================] - 2s 41us/step - loss: 0.0775 - acc: 0.9765 - val_loss: 4.3098 - val_acc: 0.5217\n",
      "Epoch 82/100\n",
      "50000/50000 [==============================] - 2s 41us/step - loss: 0.0553 - acc: 0.9824 - val_loss: 4.3250 - val_acc: 0.5321\n",
      "Epoch 83/100\n",
      "50000/50000 [==============================] - 2s 41us/step - loss: 0.0780 - acc: 0.9762 - val_loss: 4.3733 - val_acc: 0.5278\n",
      "Epoch 84/100\n",
      "50000/50000 [==============================] - 2s 41us/step - loss: 0.1023 - acc: 0.9684 - val_loss: 4.2811 - val_acc: 0.5266\n",
      "Epoch 85/100\n",
      "50000/50000 [==============================] - 2s 41us/step - loss: 0.0782 - acc: 0.9749 - val_loss: 4.2718 - val_acc: 0.5314\n",
      "Epoch 86/100\n",
      "50000/50000 [==============================] - 2s 41us/step - loss: 0.0812 - acc: 0.9748 - val_loss: 4.2234 - val_acc: 0.5350\n",
      "Epoch 87/100\n",
      "50000/50000 [==============================] - 2s 41us/step - loss: 0.0686 - acc: 0.9793 - val_loss: 4.3125 - val_acc: 0.5270\n",
      "Epoch 88/100\n",
      "50000/50000 [==============================] - 2s 41us/step - loss: 0.0501 - acc: 0.9845 - val_loss: 4.4267 - val_acc: 0.5235\n",
      "Epoch 89/100\n",
      "50000/50000 [==============================] - 2s 41us/step - loss: 0.0591 - acc: 0.9814 - val_loss: 4.3458 - val_acc: 0.5255\n",
      "Epoch 90/100\n",
      "50000/50000 [==============================] - 2s 41us/step - loss: 0.0905 - acc: 0.9716 - val_loss: 4.2574 - val_acc: 0.5303\n",
      "Epoch 91/100\n",
      "50000/50000 [==============================] - 2s 41us/step - loss: 0.0757 - acc: 0.9765 - val_loss: 4.3228 - val_acc: 0.5266\n",
      "Epoch 92/100\n",
      "50000/50000 [==============================] - 2s 41us/step - loss: 0.0806 - acc: 0.9750 - val_loss: 4.3608 - val_acc: 0.5242\n",
      "Epoch 93/100\n",
      "50000/50000 [==============================] - 2s 41us/step - loss: 0.0860 - acc: 0.9746 - val_loss: 4.4053 - val_acc: 0.5241\n",
      "Epoch 94/100\n",
      "50000/50000 [==============================] - 2s 41us/step - loss: 0.0928 - acc: 0.9719 - val_loss: 4.4126 - val_acc: 0.5180\n",
      "Epoch 95/100\n",
      "50000/50000 [==============================] - 2s 41us/step - loss: 0.0501 - acc: 0.9832 - val_loss: 4.4370 - val_acc: 0.5271\n",
      "Epoch 96/100\n",
      "50000/50000 [==============================] - 2s 41us/step - loss: 0.0522 - acc: 0.9836 - val_loss: 4.4322 - val_acc: 0.5201\n",
      "Epoch 97/100\n",
      "50000/50000 [==============================] - 2s 41us/step - loss: 0.0641 - acc: 0.9804 - val_loss: 4.3335 - val_acc: 0.5331\n",
      "Epoch 98/100\n",
      "50000/50000 [==============================] - 2s 41us/step - loss: 0.0724 - acc: 0.9776 - val_loss: 4.4374 - val_acc: 0.5248\n",
      "Epoch 99/100\n",
      "50000/50000 [==============================] - 2s 41us/step - loss: 0.0687 - acc: 0.9792 - val_loss: 4.4249 - val_acc: 0.5260\n",
      "Epoch 100/100\n",
      "50000/50000 [==============================] - 2s 41us/step - loss: 0.0676 - acc: 0.9786 - val_loss: 4.4759 - val_acc: 0.5262\n"
     ]
    },
    {
     "data": {
      "text/plain": [
       "<keras.callbacks.History at 0x281d2389e48>"
      ]
     },
     "execution_count": 12,
     "metadata": {},
     "output_type": "execute_result"
    }
   ],
   "source": [
    "model.fit(x_train, y_train, \n",
    "          epochs=EPOCHS, \n",
    "          batch_size=BATCH_SIZE, \n",
    "          validation_data=(x_test, y_test), \n",
    "          shuffle=True)"
   ]
  },
  {
   "cell_type": "code",
   "execution_count": 13,
   "metadata": {},
   "outputs": [
    {
     "data": {
      "text/plain": [
       "Text(0.5, 1.0, 'Accuracy')"
      ]
     },
     "execution_count": 13,
     "metadata": {},
     "output_type": "execute_result"
    },
    {
     "data": {
      "image/png": "[encoded data removed]",
      "text/plain": [
       "<Figure size 432x288 with 1 Axes>"
      ]
     },
     "metadata": {
      "needs_background": "light"
     },
     "output_type": "display_data"
    },
    {
     "data": {
      "image/png": "[encoded data removed]",
      "text/plain": [
       "<Figure size 432x288 with 1 Axes>"
      ]
     },
     "metadata": {
      "needs_background": "light"
     },
     "output_type": "display_data"
    }
   ],
   "source": [
    "import matplotlib.pyplot as plt\n",
    "%matplotlib inline\n",
    "\n",
    "train_loss = model.history.history[\"loss\"]\n",
    "valid_loss = model.history.history[\"val_loss\"]\n",
    "\n",
    "train_acc = model.history.history[\"acc\"]\n",
    "valid_acc = model.history.history[\"val_acc\"]\n",
    "\n",
    "plt.plot(range(len(train_loss)), train_loss, label=\"train loss\")\n",
    "plt.plot(range(len(valid_loss)), valid_loss, label=\"valid loss\")\n",
    "plt.legend()\n",
    "plt.title(\"Loss\")\n",
    "\n",
    "plt.figure()\n",
    "\n",
    "plt.plot(range(len(train_acc)), train_acc, label=\"train accuracy\")\n",
    "plt.plot(range(len(valid_acc)), valid_acc, label=\"valid accuracy\")\n",
    "plt.legend()\n",
    "plt.title(\"Accuracy\")"
   ]
  }
 ],
 "metadata": {
  "kernelspec": {
   "display_name": "finlab",
   "language": "python",
   "name": "finlab"
  },
  "language_info": {
   "codemirror_mode": {
    "name": "ipython",
    "version": 3
   },
   "file_extension": ".py",
   "mimetype": "text/x-python",
   "name": "python",
   "nbconvert_exporter": "python",
   "pygments_lexer": "ipython3",
   "version": "3.6.9"
  }
 },
 "nbformat": 4,
 "nbformat_minor": 4
}
